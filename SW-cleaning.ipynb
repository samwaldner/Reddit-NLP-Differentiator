{
 "cells": [
  {
   "cell_type": "markdown",
   "id": "e38fc6a4-6532-4a87-9786-794770a5b26a",
   "metadata": {},
   "source": [
    "# Project 3: Cleaning and EDA\n",
    "----"
   ]
  },
  {
   "cell_type": "code",
   "execution_count": 1,
   "id": "47085a3a-d94b-49bc-9aa8-710ccb7648ca",
   "metadata": {},
   "outputs": [],
   "source": [
    "import pandas as pd\n",
    "import numpy as np\n",
    "import seaborn as sns\n",
    "import matplotlib.pyplot as plt\n",
    "from sklearn.feature_extraction.text import CountVectorizer, TfidfVectorizer\n",
    "\n",
    "import nltk\n",
    "from nltk.sentiment.vader import SentimentIntensityAnalyzer "
   ]
  },
  {
   "cell_type": "code",
   "execution_count": 2,
   "id": "8571ccc4-e5dc-4999-b66e-06515203e500",
   "metadata": {},
   "outputs": [],
   "source": [
    "\"\"\"Unsure how much data I wanted to work with, thre are multiple csv's\n",
    "however, just_text is our final product. If you want to see how just__text was made uncomment\n",
    "large variable\"\"\"\n",
    "#df = pd.read_csv('./data/submissions_12k.csv')\n",
    "large = pd.read_csv('./data/submissions_50k.csv')\n",
    "just_text = pd.read_csv('./data/text_base.csv')"
   ]
  },
  {
   "cell_type": "code",
   "execution_count": 4,
   "id": "98ac0da9-2bb4-4299-ada5-e070e3b1bb57",
   "metadata": {},
   "outputs": [
    {
     "data": {
      "text/html": [
       "<div>\n",
       "<style scoped>\n",
       "    .dataframe tbody tr th:only-of-type {\n",
       "        vertical-align: middle;\n",
       "    }\n",
       "\n",
       "    .dataframe tbody tr th {\n",
       "        vertical-align: top;\n",
       "    }\n",
       "\n",
       "    .dataframe thead th {\n",
       "        text-align: right;\n",
       "    }\n",
       "</style>\n",
       "<table border=\"1\" class=\"dataframe\">\n",
       "  <thead>\n",
       "    <tr style=\"text-align: right;\">\n",
       "      <th></th>\n",
       "      <th>created_utc</th>\n",
       "      <th>id</th>\n",
       "      <th>score</th>\n",
       "      <th>selftext</th>\n",
       "      <th>subreddit</th>\n",
       "      <th>title</th>\n",
       "    </tr>\n",
       "  </thead>\n",
       "  <tbody>\n",
       "    <tr>\n",
       "      <th>0</th>\n",
       "      <td>1596178704</td>\n",
       "      <td>i12z41</td>\n",
       "      <td>1</td>\n",
       "      <td>NaN</td>\n",
       "      <td>explainlikeimfive</td>\n",
       "      <td>ELI5: What is Twitter?</td>\n",
       "    </tr>\n",
       "    <tr>\n",
       "      <th>1</th>\n",
       "      <td>1596178411</td>\n",
       "      <td>i12x6f</td>\n",
       "      <td>1</td>\n",
       "      <td>I’ve always been fascinated by the concept of ...</td>\n",
       "      <td>explainlikeimfive</td>\n",
       "      <td>ELI5: Why Does the Bail System Exist as it is?</td>\n",
       "    </tr>\n",
       "    <tr>\n",
       "      <th>2</th>\n",
       "      <td>1596178193</td>\n",
       "      <td>i12vt1</td>\n",
       "      <td>1</td>\n",
       "      <td>NaN</td>\n",
       "      <td>explainlikeimfive</td>\n",
       "      <td>ELI5, if countless animals have existed before...</td>\n",
       "    </tr>\n",
       "    <tr>\n",
       "      <th>3</th>\n",
       "      <td>1596178089</td>\n",
       "      <td>i12v4g</td>\n",
       "      <td>1</td>\n",
       "      <td>NaN</td>\n",
       "      <td>explainlikeimfive</td>\n",
       "      <td>ELI5: What is Radiation Stress and how does it...</td>\n",
       "    </tr>\n",
       "    <tr>\n",
       "      <th>4</th>\n",
       "      <td>1596178011</td>\n",
       "      <td>i12un7</td>\n",
       "      <td>1</td>\n",
       "      <td>How can I possibly buy stuff online for insane...</td>\n",
       "      <td>explainlikeimfive</td>\n",
       "      <td>Eli5: How can stuff be so cheap online?</td>\n",
       "    </tr>\n",
       "  </tbody>\n",
       "</table>\n",
       "</div>"
      ],
      "text/plain": [
       "   created_utc      id  score  \\\n",
       "0   1596178704  i12z41      1   \n",
       "1   1596178411  i12x6f      1   \n",
       "2   1596178193  i12vt1      1   \n",
       "3   1596178089  i12v4g      1   \n",
       "4   1596178011  i12un7      1   \n",
       "\n",
       "                                            selftext          subreddit  \\\n",
       "0                                                NaN  explainlikeimfive   \n",
       "1  I’ve always been fascinated by the concept of ...  explainlikeimfive   \n",
       "2                                                NaN  explainlikeimfive   \n",
       "3                                                NaN  explainlikeimfive   \n",
       "4  How can I possibly buy stuff online for insane...  explainlikeimfive   \n",
       "\n",
       "                                               title  \n",
       "0                             ELI5: What is Twitter?  \n",
       "1     ELI5: Why Does the Bail System Exist as it is?  \n",
       "2  ELI5, if countless animals have existed before...  \n",
       "3  ELI5: What is Radiation Stress and how does it...  \n",
       "4            Eli5: How can stuff be so cheap online?  "
      ]
     },
     "execution_count": 4,
     "metadata": {},
     "output_type": "execute_result"
    }
   ],
   "source": [
    "large.head()"
   ]
  },
  {
   "cell_type": "code",
   "execution_count": 5,
   "id": "5a070667-586a-4115-a638-b805c33faac8",
   "metadata": {},
   "outputs": [
    {
     "data": {
      "text/plain": [
       "created_utc        0\n",
       "id                 0\n",
       "score              0\n",
       "selftext       28829\n",
       "subreddit          0\n",
       "title              0\n",
       "dtype: int64"
      ]
     },
     "execution_count": 5,
     "metadata": {},
     "output_type": "execute_result"
    }
   ],
   "source": [
    "large.isna().sum()"
   ]
  },
  {
   "cell_type": "code",
   "execution_count": 6,
   "id": "b455fc5f-6378-4c04-9684-47c5a3b4df36",
   "metadata": {},
   "outputs": [
    {
     "data": {
      "text/plain": [
       "(14527, 6)"
      ]
     },
     "execution_count": 6,
     "metadata": {},
     "output_type": "execute_result"
    }
   ],
   "source": [
    "(large.loc[(large['selftext'].isna()) & (large['subreddit'] =='explainlikeimfive')]).shape"
   ]
  },
  {
   "cell_type": "code",
   "execution_count": 7,
   "id": "64ef2176-93b9-4a6d-b085-1f718e1fd2de",
   "metadata": {},
   "outputs": [
    {
     "data": {
      "text/plain": [
       "(14302, 6)"
      ]
     },
     "execution_count": 7,
     "metadata": {},
     "output_type": "execute_result"
    }
   ],
   "source": [
    "(large.loc[(large['selftext'].isna()) & (large['subreddit'] =='NoStupidQuestions')]).shape"
   ]
  },
  {
   "cell_type": "markdown",
   "id": "088256b4-31ac-4817-bfcd-357a4f6d8280",
   "metadata": {},
   "source": [
    "A pretty even amound of NaNs in the two data frames."
   ]
  },
  {
   "cell_type": "code",
   "execution_count": 8,
   "id": "f39844b2-d84a-4b8f-a59b-fa202feec975",
   "metadata": {},
   "outputs": [
    {
     "data": {
      "text/plain": [
       "(95141,)"
      ]
     },
     "execution_count": 8,
     "metadata": {},
     "output_type": "execute_result"
    }
   ],
   "source": [
    "large['title'].unique().shape"
   ]
  },
  {
   "cell_type": "code",
   "execution_count": 9,
   "id": "c766a186-2586-423e-8f3b-1ee94fa7b090",
   "metadata": {},
   "outputs": [
    {
     "data": {
      "text/plain": [
       "(96173,)"
      ]
     },
     "execution_count": 9,
     "metadata": {},
     "output_type": "execute_result"
    }
   ],
   "source": [
    "large['id'].unique().shape"
   ]
  },
  {
   "cell_type": "markdown",
   "id": "1932da5a-9b63-4eaa-82c2-3cd122590b87",
   "metadata": {},
   "source": [
    "There are some duplicate posts that were either reposted by the user or pulled twice by our function, we will drop those as they are redundant information"
   ]
  },
  {
   "cell_type": "code",
   "execution_count": 10,
   "id": "7c0aa94e-3159-420f-8635-7acaf3f335e2",
   "metadata": {},
   "outputs": [
    {
     "data": {
      "text/html": [
       "<div>\n",
       "<style scoped>\n",
       "    .dataframe tbody tr th:only-of-type {\n",
       "        vertical-align: middle;\n",
       "    }\n",
       "\n",
       "    .dataframe tbody tr th {\n",
       "        vertical-align: top;\n",
       "    }\n",
       "\n",
       "    .dataframe thead th {\n",
       "        text-align: right;\n",
       "    }\n",
       "</style>\n",
       "<table border=\"1\" class=\"dataframe\">\n",
       "  <thead>\n",
       "    <tr style=\"text-align: right;\">\n",
       "      <th></th>\n",
       "      <th>created_utc</th>\n",
       "      <th>id</th>\n",
       "      <th>score</th>\n",
       "      <th>selftext</th>\n",
       "      <th>subreddit</th>\n",
       "      <th>title</th>\n",
       "    </tr>\n",
       "  </thead>\n",
       "  <tbody>\n",
       "    <tr>\n",
       "      <th>8199</th>\n",
       "      <td>1603083141</td>\n",
       "      <td>jdvf9t</td>\n",
       "      <td>1</td>\n",
       "      <td>NaN</td>\n",
       "      <td>explainlikeimfive</td>\n",
       "      <td>ELI5: What is involved in a coat hanger abortion?</td>\n",
       "    </tr>\n",
       "    <tr>\n",
       "      <th>8022</th>\n",
       "      <td>1603083141</td>\n",
       "      <td>jdvf9t</td>\n",
       "      <td>1</td>\n",
       "      <td>NaN</td>\n",
       "      <td>explainlikeimfive</td>\n",
       "      <td>ELI5: What is involved in a coat hanger abortion?</td>\n",
       "    </tr>\n",
       "    <tr>\n",
       "      <th>8021</th>\n",
       "      <td>1603083468</td>\n",
       "      <td>jdvhr6</td>\n",
       "      <td>1</td>\n",
       "      <td>NaN</td>\n",
       "      <td>explainlikeimfive</td>\n",
       "      <td>ELI5: Why are some ships’ decks numbered/named...</td>\n",
       "    </tr>\n",
       "    <tr>\n",
       "      <th>8198</th>\n",
       "      <td>1603083468</td>\n",
       "      <td>jdvhr6</td>\n",
       "      <td>1</td>\n",
       "      <td>NaN</td>\n",
       "      <td>explainlikeimfive</td>\n",
       "      <td>ELI5: Why are some ships’ decks numbered/named...</td>\n",
       "    </tr>\n",
       "    <tr>\n",
       "      <th>8020</th>\n",
       "      <td>1603083805</td>\n",
       "      <td>jdvkf5</td>\n",
       "      <td>1</td>\n",
       "      <td>What about a wheel drives the hamster to want ...</td>\n",
       "      <td>explainlikeimfive</td>\n",
       "      <td>ELI5: Why do pets such as hamsters run on hams...</td>\n",
       "    </tr>\n",
       "    <tr>\n",
       "      <th>...</th>\n",
       "      <td>...</td>\n",
       "      <td>...</td>\n",
       "      <td>...</td>\n",
       "      <td>...</td>\n",
       "      <td>...</td>\n",
       "      <td>...</td>\n",
       "    </tr>\n",
       "    <tr>\n",
       "      <th>75601</th>\n",
       "      <td>1618003636</td>\n",
       "      <td>mnr3l5</td>\n",
       "      <td>1</td>\n",
       "      <td>I’m in the middle of Nietzsche’s Gay Science r...</td>\n",
       "      <td>NoStupidQuestions</td>\n",
       "      <td>Why don’t famous philosophers have glossaries ...</td>\n",
       "    </tr>\n",
       "    <tr>\n",
       "      <th>75600</th>\n",
       "      <td>1618003731</td>\n",
       "      <td>mnr4p3</td>\n",
       "      <td>1</td>\n",
       "      <td>NaN</td>\n",
       "      <td>NoStupidQuestions</td>\n",
       "      <td>If the sea is rising, can't we dig a channel f...</td>\n",
       "    </tr>\n",
       "    <tr>\n",
       "      <th>75400</th>\n",
       "      <td>1618003731</td>\n",
       "      <td>mnr4p3</td>\n",
       "      <td>1</td>\n",
       "      <td>NaN</td>\n",
       "      <td>NoStupidQuestions</td>\n",
       "      <td>If the sea is rising, can't we dig a channel f...</td>\n",
       "    </tr>\n",
       "    <tr>\n",
       "      <th>75300</th>\n",
       "      <td>1618003731</td>\n",
       "      <td>mnr4p3</td>\n",
       "      <td>1</td>\n",
       "      <td>NaN</td>\n",
       "      <td>NoStupidQuestions</td>\n",
       "      <td>If the sea is rising, can't we dig a channel f...</td>\n",
       "    </tr>\n",
       "    <tr>\n",
       "      <th>75500</th>\n",
       "      <td>1618003731</td>\n",
       "      <td>mnr4p3</td>\n",
       "      <td>1</td>\n",
       "      <td>NaN</td>\n",
       "      <td>NoStupidQuestions</td>\n",
       "      <td>If the sea is rising, can't we dig a channel f...</td>\n",
       "    </tr>\n",
       "  </tbody>\n",
       "</table>\n",
       "<p>5052 rows × 6 columns</p>\n",
       "</div>"
      ],
      "text/plain": [
       "       created_utc      id  score  \\\n",
       "8199    1603083141  jdvf9t      1   \n",
       "8022    1603083141  jdvf9t      1   \n",
       "8021    1603083468  jdvhr6      1   \n",
       "8198    1603083468  jdvhr6      1   \n",
       "8020    1603083805  jdvkf5      1   \n",
       "...            ...     ...    ...   \n",
       "75601   1618003636  mnr3l5      1   \n",
       "75600   1618003731  mnr4p3      1   \n",
       "75400   1618003731  mnr4p3      1   \n",
       "75300   1618003731  mnr4p3      1   \n",
       "75500   1618003731  mnr4p3      1   \n",
       "\n",
       "                                                selftext          subreddit  \\\n",
       "8199                                                 NaN  explainlikeimfive   \n",
       "8022                                                 NaN  explainlikeimfive   \n",
       "8021                                                 NaN  explainlikeimfive   \n",
       "8198                                                 NaN  explainlikeimfive   \n",
       "8020   What about a wheel drives the hamster to want ...  explainlikeimfive   \n",
       "...                                                  ...                ...   \n",
       "75601  I’m in the middle of Nietzsche’s Gay Science r...  NoStupidQuestions   \n",
       "75600                                                NaN  NoStupidQuestions   \n",
       "75400                                                NaN  NoStupidQuestions   \n",
       "75300                                                NaN  NoStupidQuestions   \n",
       "75500                                                NaN  NoStupidQuestions   \n",
       "\n",
       "                                                   title  \n",
       "8199   ELI5: What is involved in a coat hanger abortion?  \n",
       "8022   ELI5: What is involved in a coat hanger abortion?  \n",
       "8021   ELI5: Why are some ships’ decks numbered/named...  \n",
       "8198   ELI5: Why are some ships’ decks numbered/named...  \n",
       "8020   ELI5: Why do pets such as hamsters run on hams...  \n",
       "...                                                  ...  \n",
       "75601  Why don’t famous philosophers have glossaries ...  \n",
       "75600  If the sea is rising, can't we dig a channel f...  \n",
       "75400  If the sea is rising, can't we dig a channel f...  \n",
       "75300  If the sea is rising, can't we dig a channel f...  \n",
       "75500  If the sea is rising, can't we dig a channel f...  \n",
       "\n",
       "[5052 rows x 6 columns]"
      ]
     },
     "execution_count": 10,
     "metadata": {},
     "output_type": "execute_result"
    }
   ],
   "source": [
    "large[large['id'].isin(large['id'][large['id'].duplicated()])].sort_values(by='id')"
   ]
  },
  {
   "cell_type": "code",
   "execution_count": 11,
   "id": "df184ed3-77fd-41d3-a934-9746bd1cc179",
   "metadata": {},
   "outputs": [],
   "source": [
    "large2 = large.drop_duplicates(subset='id',keep='first',ignore_index=True)"
   ]
  },
  {
   "cell_type": "code",
   "execution_count": 12,
   "id": "d5ba687e-17e2-4303-8ffb-c55ef5e4c528",
   "metadata": {},
   "outputs": [
    {
     "data": {
      "text/plain": [
       "(96173, 6)"
      ]
     },
     "execution_count": 12,
     "metadata": {},
     "output_type": "execute_result"
    }
   ],
   "source": [
    "large2.shape"
   ]
  },
  {
   "cell_type": "code",
   "execution_count": 13,
   "id": "dcba44d0-fdbc-4eee-8c47-e9c08e1dc18a",
   "metadata": {},
   "outputs": [],
   "source": [
    "large2 = large2.drop_duplicates(subset='title',keep='first',ignore_index=True)"
   ]
  },
  {
   "cell_type": "code",
   "execution_count": 14,
   "id": "6f3d0df4-c400-40e9-b1a0-0b09dc997356",
   "metadata": {},
   "outputs": [
    {
     "data": {
      "text/plain": [
       "(95141, 6)"
      ]
     },
     "execution_count": 14,
     "metadata": {},
     "output_type": "execute_result"
    }
   ],
   "source": [
    "large2.shape"
   ]
  },
  {
   "cell_type": "code",
   "execution_count": 15,
   "id": "1e7baa08-bb56-4a65-a69b-21da5137e8ee",
   "metadata": {},
   "outputs": [
    {
     "data": {
      "text/plain": [
       "(13831, 6)"
      ]
     },
     "execution_count": 15,
     "metadata": {},
     "output_type": "execute_result"
    }
   ],
   "source": [
    "(large2.loc[(large['selftext'].isna()) & (large2['subreddit'] =='explainlikeimfive')]).shape"
   ]
  },
  {
   "cell_type": "code",
   "execution_count": 16,
   "id": "75dbf9ca-0dec-442d-b8b4-9ae69a92efe1",
   "metadata": {},
   "outputs": [
    {
     "data": {
      "text/plain": [
       "(13621, 6)"
      ]
     },
     "execution_count": 16,
     "metadata": {},
     "output_type": "execute_result"
    }
   ],
   "source": [
    "(large2.loc[(large['selftext'].isna()) & (large2['subreddit'] =='NoStupidQuestions')]).shape"
   ]
  },
  {
   "cell_type": "code",
   "execution_count": 17,
   "id": "59865cbe-be2c-4396-bffa-9ef41b9e72ef",
   "metadata": {},
   "outputs": [],
   "source": [
    "large2.fillna('IGNORETHISTEXT',inplace=True)"
   ]
  },
  {
   "cell_type": "markdown",
   "id": "53aaef19-1364-4b6a-a542-d512ae81b9a8",
   "metadata": {},
   "source": [
    "Filling in NA values with text that can be either added to stopwords later, or, more likely, I will combine 'selftext' and 'title' into a single column and remove this filler text."
   ]
  },
  {
   "cell_type": "code",
   "execution_count": 18,
   "id": "0e1d44ab-2069-4ee3-ae0d-3d24e4d154f5",
   "metadata": {},
   "outputs": [
    {
     "data": {
      "text/plain": [
       "created_utc    0\n",
       "id             0\n",
       "score          0\n",
       "selftext       0\n",
       "subreddit      0\n",
       "title          0\n",
       "dtype: int64"
      ]
     },
     "execution_count": 18,
     "metadata": {},
     "output_type": "execute_result"
    }
   ],
   "source": [
    "large2.isna().sum()"
   ]
  },
  {
   "cell_type": "code",
   "execution_count": 19,
   "id": "67c861e3-1e70-4b36-9ae8-a4c98db3c10f",
   "metadata": {},
   "outputs": [],
   "source": [
    "#large2.to_csv('./data/cleaned.csv',index=False)"
   ]
  },
  {
   "cell_type": "code",
   "execution_count": 20,
   "id": "91a49688-604e-4ab2-8cf1-ba0cd135085f",
   "metadata": {},
   "outputs": [],
   "source": [
    "large2['title_length'] = large2['title'].apply(lambda x:len(x))\n",
    "\n",
    "large2['title_word_count']=large2['title'].str.split().apply(lambda x:len(x))"
   ]
  },
  {
   "cell_type": "code",
   "execution_count": 21,
   "id": "b28a6037-a6c4-4d26-834f-9079dfd77af8",
   "metadata": {},
   "outputs": [
    {
     "name": "stdout",
     "output_type": "stream",
     "text": [
      "NoStupidQuestions Average Charcount: 73.89528116233303, Explainlikeimfive Average Charcount:80.74281794195251\n",
      "NoStupidQuestions Average Wordcount: 13.718063057404848, Explainlikeimfive Average Wordcount:14.561266490765172\n"
     ]
    }
   ],
   "source": [
    "print(f\"NoStupidQuestions Average Charcount: {large2.loc[large2['subreddit']=='NoStupidQuestions','title_length'].mean()}, Explainlikeimfive Average Charcount:{large2.loc[large2['subreddit']=='explainlikeimfive','title_length'].mean()}\"\n",
    ")\n",
    "print(f\"NoStupidQuestions Average Wordcount: {large2.loc[large2['subreddit']=='NoStupidQuestions','title_word_count'].mean()}, Explainlikeimfive Average Wordcount:{large2.loc[large2['subreddit']=='explainlikeimfive','title_word_count'].mean()}\"\n",
    ")\n"
   ]
  },
  {
   "cell_type": "markdown",
   "id": "016da60e-7a4e-4296-80c0-c0070faa3140",
   "metadata": {},
   "source": [
    "Creating two new columns for word_count and char count to get get a baseline idea of the two subreddits."
   ]
  },
  {
   "cell_type": "code",
   "execution_count": 22,
   "id": "7fe5a003-237d-4330-a15e-1ea3aa920bdf",
   "metadata": {},
   "outputs": [
    {
     "data": {
      "image/png": "[encoded data removed]",
      "text/plain": [
       "<Figure size 864x576 with 1 Axes>"
      ]
     },
     "metadata": {
      "needs_background": "light"
     },
     "output_type": "display_data"
    }
   ],
   "source": [
    "plt.figure(figsize=(12,8))\n",
    "sns.histplot(large2['title_length'],bins=15,kde=True,stat='frequency');\n",
    "plt.title('Character Count Distribution',size=24);\n",
    "plt.xlabel('Characters',fontsize=16)\n",
    "plt.ylabel('Frequency',fontsize=16);"
   ]
  },
  {
   "cell_type": "code",
   "execution_count": 23,
   "id": "c4472074-37e4-4837-9172-d27522d2ba0f",
   "metadata": {},
   "outputs": [
    {
     "data": {
      "image/png": "[encoded data removed]",
      "text/plain": [
       "<Figure size 864x576 with 1 Axes>"
      ]
     },
     "metadata": {
      "needs_background": "light"
     },
     "output_type": "display_data"
    }
   ],
   "source": [
    "plt.figure(figsize=(12,8))\n",
    "sns.histplot(large2['title_word_count'],bins=21,kde=True,stat='frequency');\n",
    "plt.title('Word Count Distribution',size=24);\n",
    "plt.xlabel('Word',fontsize=16)\n",
    "plt.ylabel('Frequency',fontsize=16);"
   ]
  },
  {
   "cell_type": "markdown",
   "id": "b8ddc404-5ec9-4f56-9f26-367390d361db",
   "metadata": {},
   "source": [
    "Checking out the distribution of titles they combined data appears to be positively skewed. This will not be the final form of the distribution."
   ]
  },
  {
   "cell_type": "code",
   "execution_count": 24,
   "id": "2a95c191-4b47-4d14-826e-17adb0432861",
   "metadata": {},
   "outputs": [
    {
     "data": {
      "text/plain": [
       "Index(['created_utc', 'id', 'score', 'selftext', 'subreddit', 'title',\n",
       "       'title_length', 'title_word_count'],\n",
       "      dtype='object')"
      ]
     },
     "execution_count": 24,
     "metadata": {},
     "output_type": "execute_result"
    }
   ],
   "source": [
    "large2.columns"
   ]
  },
  {
   "cell_type": "code",
   "execution_count": 25,
   "id": "fc47f14a-7e15-427b-b581-33bffdec0ab9",
   "metadata": {},
   "outputs": [],
   "source": [
    "large2['text']=large2['title'] + \" \" + large2['selftext']"
   ]
  },
  {
   "cell_type": "code",
   "execution_count": 27,
   "id": "2a44f6ad-1825-46c9-acd2-f05fc2c412bd",
   "metadata": {},
   "outputs": [],
   "source": [
    "just_text = large2[['text','subreddit']].copy()"
   ]
  },
  {
   "cell_type": "code",
   "execution_count": 28,
   "id": "e04dd8e0-5e2f-45bd-9252-71d049cf20f1",
   "metadata": {},
   "outputs": [
    {
     "data": {
      "text/html": [
       "<div>\n",
       "<style scoped>\n",
       "    .dataframe tbody tr th:only-of-type {\n",
       "        vertical-align: middle;\n",
       "    }\n",
       "\n",
       "    .dataframe tbody tr th {\n",
       "        vertical-align: top;\n",
       "    }\n",
       "\n",
       "    .dataframe thead th {\n",
       "        text-align: right;\n",
       "    }\n",
       "</style>\n",
       "<table border=\"1\" class=\"dataframe\">\n",
       "  <thead>\n",
       "    <tr style=\"text-align: right;\">\n",
       "      <th></th>\n",
       "      <th>text</th>\n",
       "      <th>subreddit</th>\n",
       "    </tr>\n",
       "  </thead>\n",
       "  <tbody>\n",
       "    <tr>\n",
       "      <th>0</th>\n",
       "      <td>ELI5: What is Twitter? IGNORETHISTEXT</td>\n",
       "      <td>explainlikeimfive</td>\n",
       "    </tr>\n",
       "    <tr>\n",
       "      <th>1</th>\n",
       "      <td>ELI5: Why Does the Bail System Exist as it is?...</td>\n",
       "      <td>explainlikeimfive</td>\n",
       "    </tr>\n",
       "    <tr>\n",
       "      <th>2</th>\n",
       "      <td>ELI5, if countless animals have existed before...</td>\n",
       "      <td>explainlikeimfive</td>\n",
       "    </tr>\n",
       "    <tr>\n",
       "      <th>3</th>\n",
       "      <td>ELI5: What is Radiation Stress and how does it...</td>\n",
       "      <td>explainlikeimfive</td>\n",
       "    </tr>\n",
       "    <tr>\n",
       "      <th>4</th>\n",
       "      <td>Eli5: How can stuff be so cheap online? How ca...</td>\n",
       "      <td>explainlikeimfive</td>\n",
       "    </tr>\n",
       "  </tbody>\n",
       "</table>\n",
       "</div>"
      ],
      "text/plain": [
       "                                                text          subreddit\n",
       "0              ELI5: What is Twitter? IGNORETHISTEXT  explainlikeimfive\n",
       "1  ELI5: Why Does the Bail System Exist as it is?...  explainlikeimfive\n",
       "2  ELI5, if countless animals have existed before...  explainlikeimfive\n",
       "3  ELI5: What is Radiation Stress and how does it...  explainlikeimfive\n",
       "4  Eli5: How can stuff be so cheap online? How ca...  explainlikeimfive"
      ]
     },
     "execution_count": 28,
     "metadata": {},
     "output_type": "execute_result"
    }
   ],
   "source": [
    "just_text.head()"
   ]
  },
  {
   "cell_type": "markdown",
   "id": "b9272e7a-2b3b-46b9-bf8c-73f18dd4e301",
   "metadata": {},
   "source": [
    "New data frame with just subreddit and all other text."
   ]
  },
  {
   "cell_type": "code",
   "execution_count": 29,
   "id": "7fafac53-02bb-46d2-a28c-10403557f032",
   "metadata": {},
   "outputs": [],
   "source": [
    "#large2.to_csv('./data/cleaned.csv',index=False)"
   ]
  },
  {
   "cell_type": "code",
   "execution_count": 30,
   "id": "9048ca80-d29f-4612-bcda-a774e339494f",
   "metadata": {},
   "outputs": [],
   "source": [
    "just_text['text'] = just_text['text'].str.replace('ELI5:', '',case=False)\n",
    "just_text['text'] = just_text['text'].str.replace('ELI5,', '',case=False)\n",
    "just_text['text'] = just_text['text'].str.replace('ELI5', '',case=False)\n",
    "just_text['text'] = just_text['text'].str.replace('IGNORETHISTEXT', '',case=False)"
   ]
  },
  {
   "cell_type": "markdown",
   "id": "4c3ff15e-073c-47de-beff-b7f79a09ba46",
   "metadata": {},
   "source": [
    "Dropping place holder text and key indicator of subreddit."
   ]
  },
  {
   "cell_type": "code",
   "execution_count": 32,
   "id": "e50be507-7e1d-4650-8989-b68547d96c1b",
   "metadata": {},
   "outputs": [
    {
     "data": {
      "text/html": [
       "<div>\n",
       "<style scoped>\n",
       "    .dataframe tbody tr th:only-of-type {\n",
       "        vertical-align: middle;\n",
       "    }\n",
       "\n",
       "    .dataframe tbody tr th {\n",
       "        vertical-align: top;\n",
       "    }\n",
       "\n",
       "    .dataframe thead th {\n",
       "        text-align: right;\n",
       "    }\n",
       "</style>\n",
       "<table border=\"1\" class=\"dataframe\">\n",
       "  <thead>\n",
       "    <tr style=\"text-align: right;\">\n",
       "      <th></th>\n",
       "      <th>text</th>\n",
       "      <th>subreddit</th>\n",
       "    </tr>\n",
       "  </thead>\n",
       "  <tbody>\n",
       "    <tr>\n",
       "      <th>0</th>\n",
       "      <td>What is Twitter?</td>\n",
       "      <td>explainlikeimfive</td>\n",
       "    </tr>\n",
       "    <tr>\n",
       "      <th>1</th>\n",
       "      <td>Why Does the Bail System Exist as it is? I’ve...</td>\n",
       "      <td>explainlikeimfive</td>\n",
       "    </tr>\n",
       "    <tr>\n",
       "      <th>2</th>\n",
       "      <td>if countless animals have existed before huma...</td>\n",
       "      <td>explainlikeimfive</td>\n",
       "    </tr>\n",
       "    <tr>\n",
       "      <th>3</th>\n",
       "      <td>What is Radiation Stress and how does it rela...</td>\n",
       "      <td>explainlikeimfive</td>\n",
       "    </tr>\n",
       "    <tr>\n",
       "      <th>4</th>\n",
       "      <td>How can stuff be so cheap online? How can I p...</td>\n",
       "      <td>explainlikeimfive</td>\n",
       "    </tr>\n",
       "  </tbody>\n",
       "</table>\n",
       "</div>"
      ],
      "text/plain": [
       "                                                text          subreddit\n",
       "0                                  What is Twitter?   explainlikeimfive\n",
       "1   Why Does the Bail System Exist as it is? I’ve...  explainlikeimfive\n",
       "2   if countless animals have existed before huma...  explainlikeimfive\n",
       "3   What is Radiation Stress and how does it rela...  explainlikeimfive\n",
       "4   How can stuff be so cheap online? How can I p...  explainlikeimfive"
      ]
     },
     "execution_count": 32,
     "metadata": {},
     "output_type": "execute_result"
    }
   ],
   "source": [
    "just_text.head()"
   ]
  },
  {
   "cell_type": "code",
   "execution_count": 33,
   "id": "a3ff6907-fc47-4260-b8e3-aaa4e557b45f",
   "metadata": {},
   "outputs": [],
   "source": [
    "just_text['length'] = just_text['text'].apply(lambda x:len(x))\n",
    "\n",
    "just_text['word_count']=just_text['text'].str.split().apply(lambda x:len(x))"
   ]
  },
  {
   "cell_type": "markdown",
   "id": "e855e72f-4f59-49eb-b4b7-441260db5b3c",
   "metadata": {},
   "source": [
    "New columns for character count and word count."
   ]
  },
  {
   "cell_type": "code",
   "execution_count": 34,
   "id": "ee4f609d-f2fc-458d-b7b1-abe25c35226f",
   "metadata": {},
   "outputs": [
    {
     "data": {
      "text/html": [
       "<div>\n",
       "<style scoped>\n",
       "    .dataframe tbody tr th:only-of-type {\n",
       "        vertical-align: middle;\n",
       "    }\n",
       "\n",
       "    .dataframe tbody tr th {\n",
       "        vertical-align: top;\n",
       "    }\n",
       "\n",
       "    .dataframe thead th {\n",
       "        text-align: right;\n",
       "    }\n",
       "</style>\n",
       "<table border=\"1\" class=\"dataframe\">\n",
       "  <thead>\n",
       "    <tr style=\"text-align: right;\">\n",
       "      <th></th>\n",
       "      <th>text</th>\n",
       "      <th>subreddit</th>\n",
       "      <th>length</th>\n",
       "      <th>word_count</th>\n",
       "    </tr>\n",
       "  </thead>\n",
       "  <tbody>\n",
       "    <tr>\n",
       "      <th>79686</th>\n",
       "      <td>How would protect someone you care about? I kn...</td>\n",
       "      <td>NoStupidQuestions</td>\n",
       "      <td>13275</td>\n",
       "      <td>2659</td>\n",
       "    </tr>\n",
       "  </tbody>\n",
       "</table>\n",
       "</div>"
      ],
      "text/plain": [
       "                                                    text          subreddit  \\\n",
       "79686  How would protect someone you care about? I kn...  NoStupidQuestions   \n",
       "\n",
       "       length  word_count  \n",
       "79686   13275        2659  "
      ]
     },
     "execution_count": 34,
     "metadata": {},
     "output_type": "execute_result"
    }
   ],
   "source": [
    "just_text.loc[just_text['length']>10000]"
   ]
  },
  {
   "cell_type": "code",
   "execution_count": 35,
   "id": "a4799a2c-8a32-4fb7-9f78-bdb88f9d8220",
   "metadata": {},
   "outputs": [
    {
     "data": {
      "image/png": "[encoded data removed]",
      "text/plain": [
       "<Figure size 1152x864 with 4 Axes>"
      ]
     },
     "metadata": {
      "needs_background": "light"
     },
     "output_type": "display_data"
    }
   ],
   "source": [
    "fig, ax = plt.subplots(2,2,figsize=(16,12))\n",
    "\n",
    "#nostupidquestions\n",
    "\n",
    "sns.histplot(just_text[just_text['subreddit']=='NoStupidQuestions']['length'],stat='percent',bins=75,ax=ax[0,0],color='darkgreen');\n",
    "sns.histplot(just_text[just_text['subreddit']=='NoStupidQuestions']['word_count'],stat='percent',bins=75,ax=ax[0,1],color='darkgreen');\n",
    "\n",
    "#explainlikeimfive\n",
    "\n",
    "sns.histplot(just_text[just_text['subreddit']=='explainlikeimfive']['length'],stat='percent',bins=40,ax=ax[1,0],color='darkmagenta');\n",
    "sns.histplot(just_text[just_text['subreddit']=='explainlikeimfive']['word_count'],stat='percent',bins=40,ax=ax[1,1],color='darkmagenta');\n",
    "\n",
    "\n",
    "plt.suptitle('Length Distributions',size=24);\n",
    "\n",
    "\n",
    "ax[0,0].set_xlabel('Chars',fontsize=18)\n",
    "ax[0,0].set_ylabel('Percent',fontsize=18)\n",
    "\n",
    "ax[0,1].set_xlabel('Words',fontsize=18)\n",
    "ax[0,1].set_ylabel('Percent',fontsize=18)\n",
    "\n",
    "ax[1,0].set_xlabel('Chars',fontsize=18)\n",
    "ax[1,0].set_ylabel('Percent',fontsize=18)\n",
    "\n",
    "ax[1,1].set_xlabel('Words',fontsize=18)\n",
    "ax[1,1].set_ylabel('Percent',fontsize=18)\n",
    "\n",
    "ax[0,0].set_xlim(0,3600)\n",
    "ax[0,1].set_xlim(0,700)\n",
    "ax[1,0].set_xlim(0,3600)\n",
    "ax[1,1].set_xlim(0,700)\n",
    "\n",
    "\n",
    "ax[0,0].set_title('NoStupidQuestions Chars',fontsize=20)\n",
    "ax[0,1].set_title('NoStupidQuestions Words',fontsize=20)\n",
    "ax[1,0].set_title('explainlikeimfive Chars',fontsize=20)\n",
    "ax[1,1].set_title('explainlikeimfive Words',fontsize=20);\n",
    "plt.tight_layout()\n",
    "\n",
    "#plt.savefig('./imgs/post_length_distribution.png');"
   ]
  },
  {
   "cell_type": "markdown",
   "id": "987887de-94ac-47d2-b640-a0e3166f3834",
   "metadata": {},
   "source": [
    "In this model we can see that contrary to what we saw at the start, NoStupdidQuestions is clearly the longer-form of the two subreddits. Longer posts to me indicate either more complex questions, or more personal narritive based questions. This helps us understand potential bias in the subreddits."
   ]
  },
  {
   "cell_type": "code",
   "execution_count": 36,
   "id": "f4195969-8fab-4397-9334-6e7ca228ee2a",
   "metadata": {},
   "outputs": [
    {
     "data": {
      "text/plain": [
       "NoStupidQuestions    71\n",
       "explainlikeimfive     3\n",
       "Name: subreddit, dtype: int64"
      ]
     },
     "execution_count": 36,
     "metadata": {},
     "output_type": "execute_result"
    }
   ],
   "source": [
    "just_text[just_text['word_count']>500]['subreddit'].value_counts(normalize=False)"
   ]
  },
  {
   "cell_type": "markdown",
   "id": "770fe15e-fa48-495d-81d5-88ae35fd6006",
   "metadata": {},
   "source": [
    "Way more posts over 500 words in NoStupidQuestions."
   ]
  },
  {
   "cell_type": "code",
   "execution_count": 49,
   "id": "41bbe267-ff3e-4d83-9da5-c1d39f5cea39",
   "metadata": {},
   "outputs": [],
   "source": [
    "df_explain=just_text[just_text['subreddit']=='explainlikeimfive']\n",
    "df_stupid=just_text[just_text['subreddit']=='NoStupidQuestions']"
   ]
  },
  {
   "cell_type": "code",
   "execution_count": 50,
   "id": "6b28de18-91bc-433a-909e-29f24def01ba",
   "metadata": {},
   "outputs": [],
   "source": [
    "stopwords = nltk.corpus.stopwords.words('english')\n",
    "stopwords.append('eli5')\n",
    "stopwords.append('ignorethistext')\n",
    "stopwords.append('removed')\n",
    "stopwords.append('like'),\n",
    "stopwords.append('would'),\n",
    "stopwords.append('know'),\n",
    "stopwords.append('go'),\n",
    "stopwords.append('get')\n",
    "stopwords.append('us')\n",
    "stopwords.append('people')\n",
    "stopwords.append('much')\n",
    "stopwords.append('even')\n",
    "stopwords.append('also')\n",
    "stopwords.append('come')\n",
    "stopwords.append('someone')\n",
    "stopwords.append('one')\n",
    "stopwords.append('feel')\n",
    "stopwords.append('difference')\n",
    "stopwords.append('something')\n",
    "stopwords.append('different')\n",
    "stopwords.append('make')\n",
    "stopwords.append('use')\n",
    "stopwords.append('still')\n",
    "stopwords.append('mean')\n",
    "stopwords.append('see')\n",
    "stopwords.append('makes')\n",
    "stopwords.append('always')\n",
    "stopwords.append('things')\n",
    "stopwords.append('really')\n",
    "stopwords.append('exactly')\n",
    "stopwords.append('need')\n",
    "stopwords.append('many')\n",
    "stopwords.append('going')\n",
    "stopwords.append('without')\n",
    "stopwords.append('happens')\n",
    "stopwords.append('explain')\n",
    "stopwords.append('take')\n",
    "stopwords.append('seems')\n",
    "stopwords.append('example')\n",
    "stopwords.append('want')\n",
    "stopwords.append('thing')\n",
    "stopwords.append('could')\n",
    "stopwords.append('work')\n",
    "stopwords.append('understand')\n",
    "stopwords.append('else')\n",
    "stopwords.append('way')\n",
    "stopwords.append('say')\n",
    "stopwords.append('think')\n",
    "stopwords.append('anything')\n",
    "stopwords.append('ever')\n",
    "stopwords.append('https')\n",
    "stopwords.append('etc')\n",
    "stopwords.append('ever')\n",
    "stopwords.append('think')\n",
    "stopwords.append('anyone')\n",
    "stopwords.append('question')\n",
    "stopwords.append('right')\n",
    "stopwords.append('back')\n",
    "stopwords.append('find')\n",
    "stopwords.append('got')\n",
    "stopwords.append('every')\n",
    "stopwords.append('ever')\n",
    "stopwords.append('lot')\n",
    "stopwords.append('since')\n",
    "stopwords.append('around')\n",
    "stopwords.append('sure')\n",
    "stopwords.append('good')\n",
    "stopwords.append('bad')\n",
    "stopwords.append('help')\n",
    "stopwords.append('never')\n",
    "stopwords.append('actually')\n",
    "stopwords.append('said')\n",
    "stopwords.append('new')\n",
    "stopwords.append('first')\n",
    "stopwords.append('able')\n",
    "stopwords.append('put')\n",
    "stopwords.append('reddit')\n",
    "stopwords.append('http')\n",
    "stopwords.append('https')\n",
    "stopwords.append('www')\n",
    "stopwords.append('please')\n",
    "stopwords.append('day')\n",
    "stopwords.append('year')\n",
    "\n",
    "# features = ['title','selftext']"
   ]
  },
  {
   "cell_type": "markdown",
   "id": "4e956267-d8b9-4b4c-ace2-124fa20d91ab",
   "metadata": {},
   "source": [
    "Continuously running and rerunning the next visual to determine unhelpful words that I can add to list of stopwords."
   ]
  },
  {
   "cell_type": "code",
   "execution_count": 51,
   "id": "0737cc31-8c6d-44a9-9588-4dfea3bb71e4",
   "metadata": {},
   "outputs": [],
   "source": [
    "cv = CountVectorizer(stop_words=stopwords, \n",
    "                     ngram_range=(1,1),\n",
    "                     min_df=2,\n",
    "                     max_df=.95)\n",
    "explain_text = cv.fit_transform(df_explain['text'])\n",
    "df_explain_text = pd.DataFrame(explain_text.todense(), columns=cv.get_feature_names())\n"
   ]
  },
  {
   "cell_type": "code",
   "execution_count": 52,
   "id": "3d9216d3-5bee-41c2-8c7f-0f785f358253",
   "metadata": {},
   "outputs": [],
   "source": [
    "stupid_text = cv.fit_transform(df_stupid['text'])\n",
    "df_stupid_text= pd.DataFrame(stupid_text.todense(), columns=cv.get_feature_names())\n"
   ]
  },
  {
   "cell_type": "code",
   "execution_count": 53,
   "id": "101214be-3afc-4394-a945-be38bea97de9",
   "metadata": {},
   "outputs": [],
   "source": [
    "df_explain_text= df_explain_text.sum().sort_values(ascending=False)"
   ]
  },
  {
   "cell_type": "code",
   "execution_count": 54,
   "id": "f7003997-3848-4893-965d-1de2c634d109",
   "metadata": {},
   "outputs": [],
   "source": [
    "df_stupid_text= df_stupid_text.sum().sort_values(ascending=False)"
   ]
  },
  {
   "cell_type": "markdown",
   "id": "509c5d46-caed-47e4-ac3d-c3aa643a2cff",
   "metadata": {},
   "source": [
    "Using a Count Vectroizer to find most common words"
   ]
  },
  {
   "cell_type": "code",
   "execution_count": 55,
   "id": "a8852008-8260-411c-9fc7-d5537bb23b6e",
   "metadata": {},
   "outputs": [
    {
     "data": {
      "image/png": "[encoded data removed]",
      "text/plain": [
       "<Figure size 1008x720 with 2 Axes>"
      ]
     },
     "metadata": {
      "needs_background": "light"
     },
     "output_type": "display_data"
    }
   ],
   "source": [
    "plt.figure(figsize=(14,10))\n",
    "\n",
    "plt.subplot(211)\n",
    "plt.title('r/explainlikeimfive',size=20)\n",
    "df_explain_text.head(20).plot(kind='barh',fontsize=12)\n",
    "\n",
    "plt.subplot(212)\n",
    "plt.title('r/NoStupidQuestions',size=20)\n",
    "df_stupid_text.head(20).plot(kind='barh',fontsize=12)\n",
    "\n",
    "plt.tight_layout()\n",
    "#plt.savefig('./imgs/word_freq_1.png');"
   ]
  },
  {
   "cell_type": "markdown",
   "id": "a7a52b4a-ef70-48c2-8e2d-9999973104ff",
   "metadata": {},
   "source": [
    "r/explainlikeimfive seems to have more objective words like: \"car,\" \"sound,\" \"brain,\" and \"human.\" On the other hand r/NoStupidQuestions seems to have more subjective words like: \"weird\" and \"normal.\" Also it's inclusion of \"school\" makes me think that perhaps a younger audience uses it for more personal questions that the more scientific sounding words of the first subreddit. interestingly, they both have \"time\" as their most used word."
   ]
  },
  {
   "cell_type": "code",
   "execution_count": 37,
   "id": "a4449fc0-d26a-4622-8581-f9dd4923416b",
   "metadata": {},
   "outputs": [
    {
     "data": {
      "text/html": [
       "<div>\n",
       "<style scoped>\n",
       "    .dataframe tbody tr th:only-of-type {\n",
       "        vertical-align: middle;\n",
       "    }\n",
       "\n",
       "    .dataframe tbody tr th {\n",
       "        vertical-align: top;\n",
       "    }\n",
       "\n",
       "    .dataframe thead th {\n",
       "        text-align: right;\n",
       "    }\n",
       "</style>\n",
       "<table border=\"1\" class=\"dataframe\">\n",
       "  <thead>\n",
       "    <tr style=\"text-align: right;\">\n",
       "      <th></th>\n",
       "      <th>text</th>\n",
       "      <th>subreddit</th>\n",
       "      <th>length</th>\n",
       "      <th>word_count</th>\n",
       "    </tr>\n",
       "  </thead>\n",
       "  <tbody>\n",
       "    <tr>\n",
       "      <th>21</th>\n",
       "      <td>why particle entanglement can't be used as a ...</td>\n",
       "      <td>explainlikeimfive</td>\n",
       "      <td>389</td>\n",
       "      <td>69</td>\n",
       "    </tr>\n",
       "    <tr>\n",
       "      <th>92</th>\n",
       "      <td>How are discs and external hard drives differ...</td>\n",
       "      <td>explainlikeimfive</td>\n",
       "      <td>306</td>\n",
       "      <td>60</td>\n",
       "    </tr>\n",
       "    <tr>\n",
       "      <th>97</th>\n",
       "      <td>Why do small amounts of water sometimes explo...</td>\n",
       "      <td>explainlikeimfive</td>\n",
       "      <td>76</td>\n",
       "      <td>12</td>\n",
       "    </tr>\n",
       "    <tr>\n",
       "      <th>103</th>\n",
       "      <td>Why can we execute prisoners, or out them in ...</td>\n",
       "      <td>explainlikeimfive</td>\n",
       "      <td>931</td>\n",
       "      <td>162</td>\n",
       "    </tr>\n",
       "    <tr>\n",
       "      <th>108</th>\n",
       "      <td>How does time dilation work? [removed]</td>\n",
       "      <td>explainlikeimfive</td>\n",
       "      <td>39</td>\n",
       "      <td>6</td>\n",
       "    </tr>\n",
       "    <tr>\n",
       "      <th>...</th>\n",
       "      <td>...</td>\n",
       "      <td>...</td>\n",
       "      <td>...</td>\n",
       "      <td>...</td>\n",
       "    </tr>\n",
       "    <tr>\n",
       "      <th>95104</th>\n",
       "      <td>Why is oversharing a red flag? I overshare all...</td>\n",
       "      <td>NoStupidQuestions</td>\n",
       "      <td>62</td>\n",
       "      <td>12</td>\n",
       "    </tr>\n",
       "    <tr>\n",
       "      <th>95105</th>\n",
       "      <td>Who am I? A question I first asked myself 4 ye...</td>\n",
       "      <td>NoStupidQuestions</td>\n",
       "      <td>1017</td>\n",
       "      <td>191</td>\n",
       "    </tr>\n",
       "    <tr>\n",
       "      <th>95106</th>\n",
       "      <td>Why strawberry is such a common flavor? From d...</td>\n",
       "      <td>NoStupidQuestions</td>\n",
       "      <td>392</td>\n",
       "      <td>67</td>\n",
       "    </tr>\n",
       "    <tr>\n",
       "      <th>95110</th>\n",
       "      <td>Am I weird for being this way all my life? Sin...</td>\n",
       "      <td>NoStupidQuestions</td>\n",
       "      <td>1483</td>\n",
       "      <td>275</td>\n",
       "    </tr>\n",
       "    <tr>\n",
       "      <th>95115</th>\n",
       "      <td>Why are so many furries canines? Just a casual...</td>\n",
       "      <td>NoStupidQuestions</td>\n",
       "      <td>209</td>\n",
       "      <td>36</td>\n",
       "    </tr>\n",
       "  </tbody>\n",
       "</table>\n",
       "<p>9269 rows × 4 columns</p>\n",
       "</div>"
      ],
      "text/plain": [
       "                                                    text          subreddit  \\\n",
       "21      why particle entanglement can't be used as a ...  explainlikeimfive   \n",
       "92      How are discs and external hard drives differ...  explainlikeimfive   \n",
       "97      Why do small amounts of water sometimes explo...  explainlikeimfive   \n",
       "103     Why can we execute prisoners, or out them in ...  explainlikeimfive   \n",
       "108               How does time dilation work? [removed]  explainlikeimfive   \n",
       "...                                                  ...                ...   \n",
       "95104  Why is oversharing a red flag? I overshare all...  NoStupidQuestions   \n",
       "95105  Who am I? A question I first asked myself 4 ye...  NoStupidQuestions   \n",
       "95106  Why strawberry is such a common flavor? From d...  NoStupidQuestions   \n",
       "95110  Am I weird for being this way all my life? Sin...  NoStupidQuestions   \n",
       "95115  Why are so many furries canines? Just a casual...  NoStupidQuestions   \n",
       "\n",
       "       length  word_count  \n",
       "21        389          69  \n",
       "92        306          60  \n",
       "97         76          12  \n",
       "103       931         162  \n",
       "108        39           6  \n",
       "...       ...         ...  \n",
       "95104      62          12  \n",
       "95105    1017         191  \n",
       "95106     392          67  \n",
       "95110    1483         275  \n",
       "95115     209          36  \n",
       "\n",
       "[9269 rows x 4 columns]"
      ]
     },
     "execution_count": 37,
     "metadata": {},
     "output_type": "execute_result"
    }
   ],
   "source": [
    "just_text[just_text['text'].str.contains(\"time\")]"
   ]
  },
  {
   "cell_type": "code",
   "execution_count": 38,
   "id": "205c1bb6-c170-46a9-ad20-79c8e36fe805",
   "metadata": {},
   "outputs": [],
   "source": [
    "quote = just_text.at[95104,'text']"
   ]
  },
  {
   "cell_type": "code",
   "execution_count": 39,
   "id": "15f26593-9b90-4c1a-997a-bfbacbe41e2f",
   "metadata": {},
   "outputs": [
    {
     "data": {
      "text/plain": [
       "'Why is oversharing a red flag? I overshare all the time. Oops.'"
      ]
     },
     "execution_count": 39,
     "metadata": {},
     "output_type": "execute_result"
    }
   ],
   "source": [
    "quote"
   ]
  },
  {
   "cell_type": "code",
   "execution_count": 40,
   "id": "d9181bf0-632d-4816-8762-58d72bbba111",
   "metadata": {},
   "outputs": [],
   "source": [
    "quote2 = just_text.at[108,'text']"
   ]
  },
  {
   "cell_type": "code",
   "execution_count": 41,
   "id": "42187411-7fd2-49a6-9c09-2cb36edb3081",
   "metadata": {},
   "outputs": [
    {
     "data": {
      "text/plain": [
       "' How does time dilation work? [removed]'"
      ]
     },
     "execution_count": 41,
     "metadata": {},
     "output_type": "execute_result"
    }
   ],
   "source": [
    "quote2"
   ]
  },
  {
   "cell_type": "markdown",
   "id": "4bea69ec-9779-4eb8-83f1-f344f254f9d1",
   "metadata": {},
   "source": [
    "Both subreddits use the word \"time\" but clearly they use it in different contexts. One is a physics, quantum question while the other is a personal issue, potentially a joke."
   ]
  },
  {
   "cell_type": "code",
   "execution_count": 56,
   "id": "6ce78b02-bf0c-4507-823e-3672ea74149c",
   "metadata": {},
   "outputs": [],
   "source": [
    "sent = SentimentIntensityAnalyzer()"
   ]
  },
  {
   "cell_type": "code",
   "execution_count": 57,
   "id": "60f34e98-2f11-467c-ab8f-f923fc5694aa",
   "metadata": {},
   "outputs": [],
   "source": [
    "def sentiment_column(data):\n",
    "    \"\"\"This functions purpose is to take in your cleaned dataframe and add\n",
    "    sentiment analysis scores as columns to it\"\"\"\n",
    "    scores = []\n",
    "    neg = []\n",
    "    neu= []\n",
    "    pos = []\n",
    "    comp = []\n",
    "    for i in range(0,len(data['text'])):\n",
    "        scores.append(sent.polarity_scores(data['text'][i]))\n",
    "        neg.append(scores[i]['neg'])\n",
    "        neu.append(scores[i]['neu'])\n",
    "        pos.append(scores[i]['pos'])\n",
    "        comp.append(scores[i]['compound'])\n",
    "    data['neg'] = neg\n",
    "    data['neu'] = neu\n",
    "    data['pos'] = pos\n",
    "    data['comp'] = comp\n",
    "    return data"
   ]
  },
  {
   "cell_type": "markdown",
   "id": "5de34e63-638c-45dc-a9a1-19c28fba5520",
   "metadata": {},
   "source": [
    "Let's take a look at the sentiment scores of the subreddits."
   ]
  },
  {
   "cell_type": "code",
   "execution_count": 58,
   "id": "34bba092-0b41-452c-8fd0-e512ae65dba6",
   "metadata": {},
   "outputs": [
    {
     "data": {
      "text/html": [
       "<div>\n",
       "<style scoped>\n",
       "    .dataframe tbody tr th:only-of-type {\n",
       "        vertical-align: middle;\n",
       "    }\n",
       "\n",
       "    .dataframe tbody tr th {\n",
       "        vertical-align: top;\n",
       "    }\n",
       "\n",
       "    .dataframe thead th {\n",
       "        text-align: right;\n",
       "    }\n",
       "</style>\n",
       "<table border=\"1\" class=\"dataframe\">\n",
       "  <thead>\n",
       "    <tr style=\"text-align: right;\">\n",
       "      <th></th>\n",
       "      <th>text</th>\n",
       "      <th>subreddit</th>\n",
       "      <th>length</th>\n",
       "      <th>word_count</th>\n",
       "      <th>neg</th>\n",
       "      <th>neu</th>\n",
       "      <th>pos</th>\n",
       "      <th>comp</th>\n",
       "    </tr>\n",
       "  </thead>\n",
       "  <tbody>\n",
       "    <tr>\n",
       "      <th>0</th>\n",
       "      <td>What is Twitter?</td>\n",
       "      <td>explainlikeimfive</td>\n",
       "      <td>18</td>\n",
       "      <td>3</td>\n",
       "      <td>0.000</td>\n",
       "      <td>1.000</td>\n",
       "      <td>0.000</td>\n",
       "      <td>0.0000</td>\n",
       "    </tr>\n",
       "    <tr>\n",
       "      <th>1</th>\n",
       "      <td>Why Does the Bail System Exist as it is? I’ve...</td>\n",
       "      <td>explainlikeimfive</td>\n",
       "      <td>759</td>\n",
       "      <td>139</td>\n",
       "      <td>0.153</td>\n",
       "      <td>0.746</td>\n",
       "      <td>0.100</td>\n",
       "      <td>-0.8278</td>\n",
       "    </tr>\n",
       "    <tr>\n",
       "      <th>2</th>\n",
       "      <td>if countless animals have existed before huma...</td>\n",
       "      <td>explainlikeimfive</td>\n",
       "      <td>129</td>\n",
       "      <td>22</td>\n",
       "      <td>0.000</td>\n",
       "      <td>1.000</td>\n",
       "      <td>0.000</td>\n",
       "      <td>0.0000</td>\n",
       "    </tr>\n",
       "    <tr>\n",
       "      <th>3</th>\n",
       "      <td>What is Radiation Stress and how does it rela...</td>\n",
       "      <td>explainlikeimfive</td>\n",
       "      <td>59</td>\n",
       "      <td>11</td>\n",
       "      <td>0.219</td>\n",
       "      <td>0.781</td>\n",
       "      <td>0.000</td>\n",
       "      <td>-0.4215</td>\n",
       "    </tr>\n",
       "    <tr>\n",
       "      <th>4</th>\n",
       "      <td>How can stuff be so cheap online? How can I p...</td>\n",
       "      <td>explainlikeimfive</td>\n",
       "      <td>536</td>\n",
       "      <td>101</td>\n",
       "      <td>0.061</td>\n",
       "      <td>0.831</td>\n",
       "      <td>0.108</td>\n",
       "      <td>0.6848</td>\n",
       "    </tr>\n",
       "    <tr>\n",
       "      <th>...</th>\n",
       "      <td>...</td>\n",
       "      <td>...</td>\n",
       "      <td>...</td>\n",
       "      <td>...</td>\n",
       "      <td>...</td>\n",
       "      <td>...</td>\n",
       "      <td>...</td>\n",
       "      <td>...</td>\n",
       "    </tr>\n",
       "    <tr>\n",
       "      <th>95136</th>\n",
       "      <td>People who hate golf, why do you hate golf? an...</td>\n",
       "      <td>NoStupidQuestions</td>\n",
       "      <td>100</td>\n",
       "      <td>21</td>\n",
       "      <td>0.260</td>\n",
       "      <td>0.569</td>\n",
       "      <td>0.171</td>\n",
       "      <td>-0.5661</td>\n",
       "    </tr>\n",
       "    <tr>\n",
       "      <th>95137</th>\n",
       "      <td>Have any of you ever eaten cow manure? If so, ...</td>\n",
       "      <td>NoStupidQuestions</td>\n",
       "      <td>71</td>\n",
       "      <td>15</td>\n",
       "      <td>0.000</td>\n",
       "      <td>0.830</td>\n",
       "      <td>0.170</td>\n",
       "      <td>0.4329</td>\n",
       "    </tr>\n",
       "    <tr>\n",
       "      <th>95138</th>\n",
       "      <td>How can I unlearn being so apathetic about eve...</td>\n",
       "      <td>NoStupidQuestions</td>\n",
       "      <td>64</td>\n",
       "      <td>10</td>\n",
       "      <td>0.264</td>\n",
       "      <td>0.736</td>\n",
       "      <td>0.000</td>\n",
       "      <td>-0.4341</td>\n",
       "    </tr>\n",
       "    <tr>\n",
       "      <th>95139</th>\n",
       "      <td>Can have a Parrot to unlearn a word? Friend ca...</td>\n",
       "      <td>NoStupidQuestions</td>\n",
       "      <td>219</td>\n",
       "      <td>42</td>\n",
       "      <td>0.063</td>\n",
       "      <td>0.805</td>\n",
       "      <td>0.132</td>\n",
       "      <td>0.4767</td>\n",
       "    </tr>\n",
       "    <tr>\n",
       "      <th>95140</th>\n",
       "      <td>Is meat that has grey on it bad if not past se...</td>\n",
       "      <td>NoStupidQuestions</td>\n",
       "      <td>114</td>\n",
       "      <td>19</td>\n",
       "      <td>0.161</td>\n",
       "      <td>0.783</td>\n",
       "      <td>0.055</td>\n",
       "      <td>-0.5106</td>\n",
       "    </tr>\n",
       "  </tbody>\n",
       "</table>\n",
       "<p>95141 rows × 8 columns</p>\n",
       "</div>"
      ],
      "text/plain": [
       "                                                    text          subreddit  \\\n",
       "0                                      What is Twitter?   explainlikeimfive   \n",
       "1       Why Does the Bail System Exist as it is? I’ve...  explainlikeimfive   \n",
       "2       if countless animals have existed before huma...  explainlikeimfive   \n",
       "3       What is Radiation Stress and how does it rela...  explainlikeimfive   \n",
       "4       How can stuff be so cheap online? How can I p...  explainlikeimfive   \n",
       "...                                                  ...                ...   \n",
       "95136  People who hate golf, why do you hate golf? an...  NoStupidQuestions   \n",
       "95137  Have any of you ever eaten cow manure? If so, ...  NoStupidQuestions   \n",
       "95138  How can I unlearn being so apathetic about eve...  NoStupidQuestions   \n",
       "95139  Can have a Parrot to unlearn a word? Friend ca...  NoStupidQuestions   \n",
       "95140  Is meat that has grey on it bad if not past se...  NoStupidQuestions   \n",
       "\n",
       "       length  word_count    neg    neu    pos    comp  \n",
       "0          18           3  0.000  1.000  0.000  0.0000  \n",
       "1         759         139  0.153  0.746  0.100 -0.8278  \n",
       "2         129          22  0.000  1.000  0.000  0.0000  \n",
       "3          59          11  0.219  0.781  0.000 -0.4215  \n",
       "4         536         101  0.061  0.831  0.108  0.6848  \n",
       "...       ...         ...    ...    ...    ...     ...  \n",
       "95136     100          21  0.260  0.569  0.171 -0.5661  \n",
       "95137      71          15  0.000  0.830  0.170  0.4329  \n",
       "95138      64          10  0.264  0.736  0.000 -0.4341  \n",
       "95139     219          42  0.063  0.805  0.132  0.4767  \n",
       "95140     114          19  0.161  0.783  0.055 -0.5106  \n",
       "\n",
       "[95141 rows x 8 columns]"
      ]
     },
     "execution_count": 58,
     "metadata": {},
     "output_type": "execute_result"
    }
   ],
   "source": [
    "sentiment_column(just_text)"
   ]
  },
  {
   "cell_type": "code",
   "execution_count": 59,
   "id": "5c32934a-2edf-4eb2-b5b2-d2a61adca082",
   "metadata": {},
   "outputs": [],
   "source": [
    "#just_text.to_csv('./data/text_base.csv',index=False)"
   ]
  },
  {
   "cell_type": "code",
   "execution_count": 60,
   "id": "5bd7e2a6-fd80-4812-8c84-59d7834146ac",
   "metadata": {},
   "outputs": [
    {
     "data": {
      "text/html": [
       "<div>\n",
       "<style scoped>\n",
       "    .dataframe tbody tr th:only-of-type {\n",
       "        vertical-align: middle;\n",
       "    }\n",
       "\n",
       "    .dataframe tbody tr th {\n",
       "        vertical-align: top;\n",
       "    }\n",
       "\n",
       "    .dataframe thead th {\n",
       "        text-align: right;\n",
       "    }\n",
       "</style>\n",
       "<table border=\"1\" class=\"dataframe\">\n",
       "  <thead>\n",
       "    <tr style=\"text-align: right;\">\n",
       "      <th></th>\n",
       "      <th>text</th>\n",
       "      <th>subreddit</th>\n",
       "      <th>length</th>\n",
       "      <th>word_count</th>\n",
       "      <th>neg</th>\n",
       "      <th>neu</th>\n",
       "      <th>pos</th>\n",
       "      <th>comp</th>\n",
       "    </tr>\n",
       "  </thead>\n",
       "  <tbody>\n",
       "    <tr>\n",
       "      <th>1</th>\n",
       "      <td>Why Does the Bail System Exist as it is? I’ve...</td>\n",
       "      <td>explainlikeimfive</td>\n",
       "      <td>759</td>\n",
       "      <td>139</td>\n",
       "      <td>0.153</td>\n",
       "      <td>0.746</td>\n",
       "      <td>0.100</td>\n",
       "      <td>-0.8278</td>\n",
       "    </tr>\n",
       "    <tr>\n",
       "      <th>3</th>\n",
       "      <td>What is Radiation Stress and how does it rela...</td>\n",
       "      <td>explainlikeimfive</td>\n",
       "      <td>59</td>\n",
       "      <td>11</td>\n",
       "      <td>0.219</td>\n",
       "      <td>0.781</td>\n",
       "      <td>0.000</td>\n",
       "      <td>-0.4215</td>\n",
       "    </tr>\n",
       "    <tr>\n",
       "      <th>4</th>\n",
       "      <td>How can stuff be so cheap online? How can I p...</td>\n",
       "      <td>explainlikeimfive</td>\n",
       "      <td>536</td>\n",
       "      <td>101</td>\n",
       "      <td>0.061</td>\n",
       "      <td>0.831</td>\n",
       "      <td>0.108</td>\n",
       "      <td>0.6848</td>\n",
       "    </tr>\n",
       "    <tr>\n",
       "      <th>6</th>\n",
       "      <td>: What is the \"Deep State\" and why do people ...</td>\n",
       "      <td>explainlikeimfive</td>\n",
       "      <td>410</td>\n",
       "      <td>77</td>\n",
       "      <td>0.073</td>\n",
       "      <td>0.902</td>\n",
       "      <td>0.025</td>\n",
       "      <td>-0.5439</td>\n",
       "    </tr>\n",
       "    <tr>\n",
       "      <th>8</th>\n",
       "      <td>What is the purpose of doing business if comp...</td>\n",
       "      <td>explainlikeimfive</td>\n",
       "      <td>623</td>\n",
       "      <td>99</td>\n",
       "      <td>0.029</td>\n",
       "      <td>0.717</td>\n",
       "      <td>0.254</td>\n",
       "      <td>0.9760</td>\n",
       "    </tr>\n",
       "    <tr>\n",
       "      <th>...</th>\n",
       "      <td>...</td>\n",
       "      <td>...</td>\n",
       "      <td>...</td>\n",
       "      <td>...</td>\n",
       "      <td>...</td>\n",
       "      <td>...</td>\n",
       "      <td>...</td>\n",
       "      <td>...</td>\n",
       "    </tr>\n",
       "    <tr>\n",
       "      <th>95136</th>\n",
       "      <td>People who hate golf, why do you hate golf? an...</td>\n",
       "      <td>NoStupidQuestions</td>\n",
       "      <td>100</td>\n",
       "      <td>21</td>\n",
       "      <td>0.260</td>\n",
       "      <td>0.569</td>\n",
       "      <td>0.171</td>\n",
       "      <td>-0.5661</td>\n",
       "    </tr>\n",
       "    <tr>\n",
       "      <th>95137</th>\n",
       "      <td>Have any of you ever eaten cow manure? If so, ...</td>\n",
       "      <td>NoStupidQuestions</td>\n",
       "      <td>71</td>\n",
       "      <td>15</td>\n",
       "      <td>0.000</td>\n",
       "      <td>0.830</td>\n",
       "      <td>0.170</td>\n",
       "      <td>0.4329</td>\n",
       "    </tr>\n",
       "    <tr>\n",
       "      <th>95138</th>\n",
       "      <td>How can I unlearn being so apathetic about eve...</td>\n",
       "      <td>NoStupidQuestions</td>\n",
       "      <td>64</td>\n",
       "      <td>10</td>\n",
       "      <td>0.264</td>\n",
       "      <td>0.736</td>\n",
       "      <td>0.000</td>\n",
       "      <td>-0.4341</td>\n",
       "    </tr>\n",
       "    <tr>\n",
       "      <th>95139</th>\n",
       "      <td>Can have a Parrot to unlearn a word? Friend ca...</td>\n",
       "      <td>NoStupidQuestions</td>\n",
       "      <td>219</td>\n",
       "      <td>42</td>\n",
       "      <td>0.063</td>\n",
       "      <td>0.805</td>\n",
       "      <td>0.132</td>\n",
       "      <td>0.4767</td>\n",
       "    </tr>\n",
       "    <tr>\n",
       "      <th>95140</th>\n",
       "      <td>Is meat that has grey on it bad if not past se...</td>\n",
       "      <td>NoStupidQuestions</td>\n",
       "      <td>114</td>\n",
       "      <td>19</td>\n",
       "      <td>0.161</td>\n",
       "      <td>0.783</td>\n",
       "      <td>0.055</td>\n",
       "      <td>-0.5106</td>\n",
       "    </tr>\n",
       "  </tbody>\n",
       "</table>\n",
       "<p>66449 rows × 8 columns</p>\n",
       "</div>"
      ],
      "text/plain": [
       "                                                    text          subreddit  \\\n",
       "1       Why Does the Bail System Exist as it is? I’ve...  explainlikeimfive   \n",
       "3       What is Radiation Stress and how does it rela...  explainlikeimfive   \n",
       "4       How can stuff be so cheap online? How can I p...  explainlikeimfive   \n",
       "6       : What is the \"Deep State\" and why do people ...  explainlikeimfive   \n",
       "8       What is the purpose of doing business if comp...  explainlikeimfive   \n",
       "...                                                  ...                ...   \n",
       "95136  People who hate golf, why do you hate golf? an...  NoStupidQuestions   \n",
       "95137  Have any of you ever eaten cow manure? If so, ...  NoStupidQuestions   \n",
       "95138  How can I unlearn being so apathetic about eve...  NoStupidQuestions   \n",
       "95139  Can have a Parrot to unlearn a word? Friend ca...  NoStupidQuestions   \n",
       "95140  Is meat that has grey on it bad if not past se...  NoStupidQuestions   \n",
       "\n",
       "       length  word_count    neg    neu    pos    comp  \n",
       "1         759         139  0.153  0.746  0.100 -0.8278  \n",
       "3          59          11  0.219  0.781  0.000 -0.4215  \n",
       "4         536         101  0.061  0.831  0.108  0.6848  \n",
       "6         410          77  0.073  0.902  0.025 -0.5439  \n",
       "8         623          99  0.029  0.717  0.254  0.9760  \n",
       "...       ...         ...    ...    ...    ...     ...  \n",
       "95136     100          21  0.260  0.569  0.171 -0.5661  \n",
       "95137      71          15  0.000  0.830  0.170  0.4329  \n",
       "95138      64          10  0.264  0.736  0.000 -0.4341  \n",
       "95139     219          42  0.063  0.805  0.132  0.4767  \n",
       "95140     114          19  0.161  0.783  0.055 -0.5106  \n",
       "\n",
       "[66449 rows x 8 columns]"
      ]
     },
     "execution_count": 60,
     "metadata": {},
     "output_type": "execute_result"
    }
   ],
   "source": [
    "just_text.loc[just_text['comp']!=0]"
   ]
  },
  {
   "cell_type": "code",
   "execution_count": 61,
   "id": "92bbfeea-3cf8-42e8-a7d9-eb8d5eab1815",
   "metadata": {},
   "outputs": [
    {
     "data": {
      "text/plain": [
       "0.06075442364861967"
      ]
     },
     "execution_count": 61,
     "metadata": {},
     "output_type": "execute_result"
    }
   ],
   "source": [
    "just_text['comp'].loc[just_text['subreddit']=='NoStupidQuestions'].mean()"
   ]
  },
  {
   "cell_type": "code",
   "execution_count": 62,
   "id": "5580849a-64e9-471b-b5df-3e90cd215e88",
   "metadata": {},
   "outputs": [
    {
     "data": {
      "text/plain": [
       "0.044712707124010605"
      ]
     },
     "execution_count": 62,
     "metadata": {},
     "output_type": "execute_result"
    }
   ],
   "source": [
    "just_text['comp'].loc[just_text['subreddit']=='explainlikeimfive'].mean()"
   ]
  },
  {
   "cell_type": "code",
   "execution_count": 63,
   "id": "e782614d-5765-447d-b39c-fc345d227a6c",
   "metadata": {},
   "outputs": [
    {
     "data": {
      "text/html": [
       "<div>\n",
       "<style scoped>\n",
       "    .dataframe tbody tr th:only-of-type {\n",
       "        vertical-align: middle;\n",
       "    }\n",
       "\n",
       "    .dataframe tbody tr th {\n",
       "        vertical-align: top;\n",
       "    }\n",
       "\n",
       "    .dataframe thead th {\n",
       "        text-align: right;\n",
       "    }\n",
       "</style>\n",
       "<table border=\"1\" class=\"dataframe\">\n",
       "  <thead>\n",
       "    <tr style=\"text-align: right;\">\n",
       "      <th></th>\n",
       "      <th>length</th>\n",
       "      <th>word_count</th>\n",
       "      <th>neg</th>\n",
       "      <th>neu</th>\n",
       "      <th>pos</th>\n",
       "      <th>comp</th>\n",
       "    </tr>\n",
       "  </thead>\n",
       "  <tbody>\n",
       "    <tr>\n",
       "      <th>count</th>\n",
       "      <td>95141.000000</td>\n",
       "      <td>95141.000000</td>\n",
       "      <td>95141.000000</td>\n",
       "      <td>95141.000000</td>\n",
       "      <td>95141.000000</td>\n",
       "      <td>95141.000000</td>\n",
       "    </tr>\n",
       "    <tr>\n",
       "      <th>mean</th>\n",
       "      <td>217.284767</td>\n",
       "      <td>39.657582</td>\n",
       "      <td>0.067445</td>\n",
       "      <td>0.855409</td>\n",
       "      <td>0.077123</td>\n",
       "      <td>0.052767</td>\n",
       "    </tr>\n",
       "    <tr>\n",
       "      <th>std</th>\n",
       "      <td>265.828583</td>\n",
       "      <td>49.521506</td>\n",
       "      <td>0.101125</td>\n",
       "      <td>0.133325</td>\n",
       "      <td>0.097810</td>\n",
       "      <td>0.485534</td>\n",
       "    </tr>\n",
       "    <tr>\n",
       "      <th>min</th>\n",
       "      <td>3.000000</td>\n",
       "      <td>1.000000</td>\n",
       "      <td>0.000000</td>\n",
       "      <td>0.000000</td>\n",
       "      <td>0.000000</td>\n",
       "      <td>-0.999500</td>\n",
       "    </tr>\n",
       "    <tr>\n",
       "      <th>25%</th>\n",
       "      <td>71.000000</td>\n",
       "      <td>12.000000</td>\n",
       "      <td>0.000000</td>\n",
       "      <td>0.771000</td>\n",
       "      <td>0.000000</td>\n",
       "      <td>-0.264000</td>\n",
       "    </tr>\n",
       "    <tr>\n",
       "      <th>50%</th>\n",
       "      <td>127.000000</td>\n",
       "      <td>23.000000</td>\n",
       "      <td>0.000000</td>\n",
       "      <td>0.867000</td>\n",
       "      <td>0.043000</td>\n",
       "      <td>0.000000</td>\n",
       "    </tr>\n",
       "    <tr>\n",
       "      <th>75%</th>\n",
       "      <td>267.000000</td>\n",
       "      <td>49.000000</td>\n",
       "      <td>0.110000</td>\n",
       "      <td>1.000000</td>\n",
       "      <td>0.130000</td>\n",
       "      <td>0.421500</td>\n",
       "    </tr>\n",
       "    <tr>\n",
       "      <th>max</th>\n",
       "      <td>13275.000000</td>\n",
       "      <td>2659.000000</td>\n",
       "      <td>1.000000</td>\n",
       "      <td>1.000000</td>\n",
       "      <td>1.000000</td>\n",
       "      <td>0.999100</td>\n",
       "    </tr>\n",
       "  </tbody>\n",
       "</table>\n",
       "</div>"
      ],
      "text/plain": [
       "             length    word_count           neg           neu           pos  \\\n",
       "count  95141.000000  95141.000000  95141.000000  95141.000000  95141.000000   \n",
       "mean     217.284767     39.657582      0.067445      0.855409      0.077123   \n",
       "std      265.828583     49.521506      0.101125      0.133325      0.097810   \n",
       "min        3.000000      1.000000      0.000000      0.000000      0.000000   \n",
       "25%       71.000000     12.000000      0.000000      0.771000      0.000000   \n",
       "50%      127.000000     23.000000      0.000000      0.867000      0.043000   \n",
       "75%      267.000000     49.000000      0.110000      1.000000      0.130000   \n",
       "max    13275.000000   2659.000000      1.000000      1.000000      1.000000   \n",
       "\n",
       "               comp  \n",
       "count  95141.000000  \n",
       "mean       0.052767  \n",
       "std        0.485534  \n",
       "min       -0.999500  \n",
       "25%       -0.264000  \n",
       "50%        0.000000  \n",
       "75%        0.421500  \n",
       "max        0.999100  "
      ]
     },
     "execution_count": 63,
     "metadata": {},
     "output_type": "execute_result"
    }
   ],
   "source": [
    "just_text.describe()"
   ]
  },
  {
   "cell_type": "code",
   "execution_count": 64,
   "id": "8121fe47-30a8-4a96-8194-35cf0993299f",
   "metadata": {},
   "outputs": [
    {
     "data": {
      "image/png": "[encoded data removed]",
      "text/plain": [
       "<Figure size 1008x720 with 2 Axes>"
      ]
     },
     "metadata": {
      "needs_background": "light"
     },
     "output_type": "display_data"
    }
   ],
   "source": [
    "plt.figure(figsize=(14,10))\n",
    "\n",
    "plt.subplot(211)\n",
    "plt.title('Neutral Sentiment Score Distribution',size=20)\n",
    "plt.hist(x=just_text[just_text['subreddit']=='NoStupidQuestions']['neu'],bins=15,color='navy',histtype='step',linewidth=3,label='NoStupidQuestions',);\n",
    "plt.hist(x=just_text[just_text['subreddit']=='explainlikeimfive']['neu'],bins=15,histtype='bar',color='orange',label='exlplainlikeimfive',);\n",
    "plt.legend();\n",
    "plt.subplot(212)\n",
    "plt.title('Compound Sentiment Score Distribution',size=20)\n",
    "plt.hist(x=just_text[just_text['subreddit']=='NoStupidQuestions']['comp'],bins=15,color='navy',histtype='step',linewidth=3,label='NoStupidQuestions',);\n",
    "plt.hist(x=just_text[just_text['subreddit']=='explainlikeimfive']['comp'],bins=15,histtype='bar',color='orange',label='exlplainlikeimfive',);\n",
    "plt.legend();\n",
    "\n",
    "plt.tight_layout()\n",
    "#plt.savefig('./imgs/neutrality_dist.png');"
   ]
  },
  {
   "cell_type": "markdown",
   "id": "27127697-e616-4632-b874-52a009b54dfc",
   "metadata": {},
   "source": [
    "Since in this project we are focusing on the difference between these two information subreddits, I care less about positivity and negativity and more about how they are different and what types of questions they answer. As such we are going to look at neutrality and compound scores as seen above.\n",
    "\n",
    "Very clearly we can see that explainlikeimfive is far more neutral and has less tendency to spike at the extremes of positive and negative while NoStupidQuestions shows the opposite, a tendency to spike closer to 1 and -1 with a lower neutrality score. This confirms, to some extent, what we were noticing in word counts with time and length in that although both of these forums are billed as informational, they act in two differnt ways which could lead to confusion and misinforming a potential new poster."
   ]
  },
  {
   "cell_type": "code",
   "execution_count": null,
   "id": "55b82414-8283-4f5d-b7c1-a1d2bb5271e9",
   "metadata": {},
   "outputs": [],
   "source": []
  }
 ],
 "metadata": {
  "kernelspec": {
   "display_name": "Python [conda env:dsi] *",
   "language": "python",
   "name": "conda-env-dsi-py"
  },
  "language_info": {
   "codemirror_mode": {
    "name": "ipython",
    "version": 3
   },
   "file_extension": ".py",
   "mimetype": "text/x-python",
   "name": "python",
   "nbconvert_exporter": "python",
   "pygments_lexer": "ipython3",
   "version": "3.8.8"
  }
 },
 "nbformat": 4,
 "nbformat_minor": 5
}
