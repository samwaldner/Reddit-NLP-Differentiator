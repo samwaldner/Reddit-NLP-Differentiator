{
 "cells": [
  {
   "cell_type": "markdown",
   "id": "ad7cc6b6-6780-4622-be4b-fc5f239645d0",
   "metadata": {},
   "source": [
    "# Project 3: Modeling\n",
    "----"
   ]
  },
  {
   "cell_type": "markdown",
   "id": "7a430a8a-d364-41d2-8d7d-bca25a7e0544",
   "metadata": {},
   "source": [
    "### Data Dictionary\n",
    "\n",
    "\n",
    "| Feature          | Type   | Dataset         | Description                                                                                                                                                   |\n",
    "|------------------|--------|-----------------|---------------------------------------------------------------------------------------------------------------------------------------------------------------|\n",
    "| text      | object | text_base  | The title and selftext of each Reddit post                                                                                                         |\n",
    "| subreddit         | object  | text_base  | Which subreddit post belongs to                                                                                                     |\n",
    "| neg       | float  | text_base  | The Negative value of the sentiment score of text                                                                                   |\n",
    "| neu              | float  | text_base | The Neutral value of the sentiment score of text                                                            |\n",
    "| pos           | float | text_base        | The Positive value of the sentiment score of text                                                                      |\n",
    "| compound   | float  | text_base        | The Compound value of the sentiment score of text                                                                         |\n"
   ]
  },
  {
   "cell_type": "code",
   "execution_count": 5,
   "id": "615b9bae-8b1e-4463-a9ed-cdfc37d9b2a8",
   "metadata": {},
   "outputs": [],
   "source": [
    "import pandas as pd\n",
    "import numpy as np\n",
    "import matplotlib.pyplot as plt\n",
    "import seaborn as sns\n",
    "\n",
    "from sklearn.model_selection import GridSearchCV, train_test_split\n",
    "from sklearn.metrics import confusion_matrix, plot_confusion_matrix, accuracy_score,precision_score,recall_score,f1_score,plot_roc_curve\n",
    "from sklearn.linear_model import LogisticRegression, LogisticRegressionCV\n",
    "from sklearn.pipeline import Pipeline\n",
    "from sklearn.naive_bayes import MultinomialNB\n",
    "from sklearn.feature_extraction.text import CountVectorizer, TfidfVectorizer\n",
    "from sklearn.ensemble import RandomForestClassifier\n",
    "\n",
    "from skopt.space import Integer, Real, Categorical\n",
    "from skopt import BayesSearchCV\n",
    "from scipy.stats import uniform, loguniform\n",
    "\n",
    "import pickle\n",
    "\n",
    "from nltk.corpus import stopwords"
   ]
  },
  {
   "cell_type": "code",
   "execution_count": 6,
   "id": "c34edefc-9b0a-4f19-bf9d-3711575b037f",
   "metadata": {},
   "outputs": [],
   "source": [
    "df = pd.read_csv('./data/text_base.csv')"
   ]
  },
  {
   "cell_type": "code",
   "execution_count": 7,
   "id": "d1ef06b4-7bbd-4f10-9d21-b6695b0ed57a",
   "metadata": {},
   "outputs": [
    {
     "data": {
      "text/html": [
       "<div>\n",
       "<style scoped>\n",
       "    .dataframe tbody tr th:only-of-type {\n",
       "        vertical-align: middle;\n",
       "    }\n",
       "\n",
       "    .dataframe tbody tr th {\n",
       "        vertical-align: top;\n",
       "    }\n",
       "\n",
       "    .dataframe thead th {\n",
       "        text-align: right;\n",
       "    }\n",
       "</style>\n",
       "<table border=\"1\" class=\"dataframe\">\n",
       "  <thead>\n",
       "    <tr style=\"text-align: right;\">\n",
       "      <th></th>\n",
       "      <th>text</th>\n",
       "      <th>subreddit</th>\n",
       "      <th>neg</th>\n",
       "      <th>neu</th>\n",
       "      <th>pos</th>\n",
       "      <th>comp</th>\n",
       "    </tr>\n",
       "  </thead>\n",
       "  <tbody>\n",
       "    <tr>\n",
       "      <th>0</th>\n",
       "      <td>What is Twitter?</td>\n",
       "      <td>explainlikeimfive</td>\n",
       "      <td>0.0</td>\n",
       "      <td>1.0</td>\n",
       "      <td>0.0</td>\n",
       "      <td>0.0</td>\n",
       "    </tr>\n",
       "  </tbody>\n",
       "</table>\n",
       "</div>"
      ],
      "text/plain": [
       "                 text          subreddit  neg  neu  pos  comp\n",
       "0   What is Twitter?   explainlikeimfive  0.0  1.0  0.0   0.0"
      ]
     },
     "execution_count": 7,
     "metadata": {},
     "output_type": "execute_result"
    }
   ],
   "source": [
    "df.head(1)"
   ]
  },
  {
   "cell_type": "code",
   "execution_count": 8,
   "id": "2195ae3a-2d39-492e-a155-e6c327293a81",
   "metadata": {},
   "outputs": [],
   "source": [
    "df['subreddit']=df['subreddit'].apply(lambda x: 1 if x == 'explainlikeimfive' else 0)"
   ]
  },
  {
   "cell_type": "markdown",
   "id": "8161cc27-59b8-49e4-aaf8-370061d6f661",
   "metadata": {},
   "source": [
    "For the sake of modeling we will be turning our target variable, subreddit, into a binary column."
   ]
  },
  {
   "cell_type": "code",
   "execution_count": 9,
   "id": "81fadabf-02ae-4c45-a44b-dc0c44745abf",
   "metadata": {},
   "outputs": [],
   "source": [
    "X = df['text']\n",
    "y = df['subreddit']\n",
    "\n",
    "X_train, X_test, y_train, y_test = train_test_split(X, y, test_size = .3,random_state = 42)"
   ]
  },
  {
   "cell_type": "code",
   "execution_count": 10,
   "id": "a106498a-a1cf-41f0-b8e1-fc6fe292d01d",
   "metadata": {},
   "outputs": [
    {
     "data": {
      "text/plain": [
       "0    0.502055\n",
       "1    0.497945\n",
       "Name: subreddit, dtype: float64"
      ]
     },
     "execution_count": 10,
     "metadata": {},
     "output_type": "execute_result"
    }
   ],
   "source": [
    "y.value_counts(normalize=True)"
   ]
  },
  {
   "cell_type": "code",
   "execution_count": 11,
   "id": "3a32ad57-a53f-4ccb-904a-1bd852eb772c",
   "metadata": {},
   "outputs": [
    {
     "data": {
      "text/plain": [
       "(66598,)"
      ]
     },
     "execution_count": 11,
     "metadata": {},
     "output_type": "execute_result"
    }
   ],
   "source": [
    "X_train.shape"
   ]
  },
  {
   "cell_type": "markdown",
   "id": "24372965-f9b7-44c1-9745-ab6bf912faf3",
   "metadata": {},
   "source": [
    "Looks like our baseline is pretty evenly distributed. If we were to make a prediction right now which subreddit a post belonged to we'd have 50% chance of getting it right."
   ]
  },
  {
   "cell_type": "markdown",
   "id": "91ac2515-e8e1-40a2-81a1-ca505e8815b5",
   "metadata": {},
   "source": [
    "## Models"
   ]
  },
  {
   "cell_type": "markdown",
   "id": "9f54f971-54fb-4219-9bac-1b7c70394cd2",
   "metadata": {},
   "source": [
    "#### Note: All completed models with best parameters are pickled into the models folder, feel free to run them from there."
   ]
  },
  {
   "cell_type": "markdown",
   "id": "c5bf0dc9-c083-485d-858a-dac627d125ce",
   "metadata": {},
   "source": [
    "#### CVEC MultinomialNB"
   ]
  },
  {
   "cell_type": "code",
   "execution_count": 12,
   "id": "946667e9-af15-4718-aa50-661b3ac3d665",
   "metadata": {},
   "outputs": [],
   "source": [
    "# MultinomialNB\n",
    "c_pipe_naive = Pipeline([\n",
    "    ('cvec', CountVectorizer()),\n",
    "    ('nb', MultinomialNB())\n",
    "])\n",
    "\n",
    "c_naive_params = {\n",
    "     'cvec__max_features': [1000,2000,3000],\n",
    "     'cvec__min_df': [2, 3],\n",
    "#      'cvec__max_df': [0.75, 0.9],\n",
    "     'cvec__ngram_range':[(1, 1), (1, 2)],\n",
    "     'cvec__stop_words':['english']\n",
    "}\n",
    "\n",
    "gs_cvec_nb = GridSearchCV(c_pipe_naive, \n",
    "                      param_grid = c_naive_params,\n",
    "                      cv = 5)\n",
    "\n",
    "gs_cvec_nb.fit(X_train, y_train)"
   ]
  },
  {
   "cell_type": "code",
   "execution_count": 10,
   "id": "86946ad7-c362-4908-af47-46911d496ebc",
   "metadata": {},
   "outputs": [],
   "source": [
    "# with open('./models/gs_cvec_nb.pkl', 'wb') as pickle_out:\n",
    "#     pickle_out = pickle.dump(gs_cvec_nb.best_estimator_, pickle_out)\n",
    "\n",
    "gs_cvec_nb = pickle.load(open('./models/gs_cvec_nb.pkl', 'rb'))"
   ]
  },
  {
   "cell_type": "markdown",
   "id": "87bb7971-432e-4e88-b53b-ec3de18f0775",
   "metadata": {},
   "source": [
    "#### Cvec Logistic Regression"
   ]
  },
  {
   "cell_type": "code",
   "execution_count": 29,
   "id": "08cf1849-447f-489d-b951-607f903f255f",
   "metadata": {},
   "outputs": [
    {
     "data": {
      "text/plain": [
       "GridSearchCV(cv=5,\n",
       "             estimator=Pipeline(steps=[('cvec', CountVectorizer()),\n",
       "                                       ('log',\n",
       "                                        LogisticRegression(random_state=42,\n",
       "                                                           solver='liblinear'))]),\n",
       "             param_grid={'cvec__max_df': [0.75, 0.9],\n",
       "                         'cvec__max_features': [1000, 2000, 3000, 4000],\n",
       "                         'cvec__min_df': [2, 3],\n",
       "                         'cvec__ngram_range': [(1, 1), (1, 2)],\n",
       "                         'cvec__stop_words': [None, 'english'],\n",
       "                         'log__max_iter': [50000],\n",
       "                         'log__penalty': ['l1', 'l2']})"
      ]
     },
     "execution_count": 29,
     "metadata": {},
     "output_type": "execute_result"
    }
   ],
   "source": [
    "# LogisticRegression\n",
    "c_pipe_logreg = Pipeline([\n",
    "    ('cvec', CountVectorizer()),\n",
    "    ('log', LogisticRegression(solver='liblinear',random_state=42))\n",
    "     ])\n",
    "\n",
    "c_log_params = {\n",
    "    'cvec__max_features': [1000, 2000,3000,4000],\n",
    "    'cvec__min_df': [2, 3],\n",
    "    'cvec__max_df': [.75,0.9],\n",
    "    'cvec__ngram_range':[(1, 1), (1, 2)],\n",
    "    'cvec__stop_words':[None,'english'],\n",
    "    'log__penalty':['l1','l2'],\n",
    "    'log__max_iter': [50_000],\n",
    "    #'log__tol': [0.01]\n",
    "}\n",
    "gs_cvec_log = GridSearchCV(c_pipe_logreg, \n",
    "                      c_log_params,\n",
    "                      cv = 5,)\n",
    "\n",
    "gs_cvec_log.fit(X_train,y_train)"
   ]
  },
  {
   "cell_type": "code",
   "execution_count": 30,
   "id": "cbe2504d-f7f6-4def-9707-ebe0c01f11f3",
   "metadata": {},
   "outputs": [],
   "source": [
    "# with open('./models/gs_cvec_log5.pkl', 'wb') as pickle_out:\n",
    "#     pickle_out = pickle.dump(gs_cvec_log.best_estimator_, pickle_out)"
   ]
  },
  {
   "cell_type": "code",
   "execution_count": 12,
   "id": "f26753e9-7ff0-4854-bb78-9cda105ba655",
   "metadata": {},
   "outputs": [],
   "source": [
    "gs_cvec_log = pickle.load(open('./models/gs_cvec_log5.pkl', 'rb'))"
   ]
  },
  {
   "cell_type": "markdown",
   "id": "b47a5fca-5f23-4137-8cab-b766cfb898c4",
   "metadata": {},
   "source": [
    "#### Cvec RandomForest"
   ]
  },
  {
   "cell_type": "code",
   "execution_count": null,
   "id": "3ca8111f-5976-4eb1-b645-0ea34b60374c",
   "metadata": {
    "scrolled": true,
    "tags": []
   },
   "outputs": [],
   "source": [
    "# RandomForestClassifier\n",
    "c_pipe_rf = Pipeline([\n",
    "    ('cvec', CountVectorizer(ngram_range=(1,2))),\n",
    "    ('rf', RandomForestClassifier())\n",
    "])\n",
    "\n",
    "c_rf_params = {\n",
    "    'cvec__max_features': Integer(1000,4000),\n",
    "    'cvec__min_df': Integer(2, 3),\n",
    "    'cvec__max_df': Real(0.75,0.9),\n",
    "    #'cvec__ngram_range':Categorical([(1, 1), (1, 2)]),\n",
    "    'cvec__stop_words':Categorical([None,'english']),\n",
    "    'rf__n_estimators': Integer(300, 500),\n",
    "    'rf__max_depth': Integer(1, 5)\n",
    "}\n",
    "\n",
    "\n",
    "pleasefortheloveof = BayesSearchCV(estimator = c_pipe_rf,\n",
    "                                   search_spaces = c_rf_params,\n",
    "                     scoring = 'f1',\n",
    "                     n_iter = 50,\n",
    "                     #n_jobs = ,\n",
    "                     cv = 5,\n",
    "                     verbose = 1,\n",
    "                     #refit = True,\n",
    "                     #optimizer_kwargs = {'base_estimator': 'RF'},\n",
    "                     random_state=42)\n",
    "\n",
    "pleasefortheloveof.fit(X_train,y_train)\n"
   ]
  },
  {
   "cell_type": "code",
   "execution_count": 68,
   "id": "ba7e4d4f-ac22-4613-835c-f5bf3743c457",
   "metadata": {},
   "outputs": [
    {
     "data": {
      "text/plain": [
       "Pipeline(steps=[('cvec',\n",
       "                 CountVectorizer(max_df=0.9, max_features=1000, min_df=3,\n",
       "                                 ngram_range=(1, 2))),\n",
       "                ('rf', RandomForestClassifier(max_depth=5, n_estimators=500))])"
      ]
     },
     "execution_count": 68,
     "metadata": {},
     "output_type": "execute_result"
    }
   ],
   "source": [
    "pleasefortheloveof.best_estimator_"
   ]
  },
  {
   "cell_type": "code",
   "execution_count": 67,
   "id": "2a19fc99-7318-46d4-abe0-3b1ec6994535",
   "metadata": {},
   "outputs": [],
   "source": [
    "# with open('./models/bayes_cvec_rf.pkl', 'wb') as pickle_out:\n",
    "#     pickle_out = pickle.dump(pleasefortheloveof.best_estimator_, pickle_out)"
   ]
  },
  {
   "cell_type": "code",
   "execution_count": 13,
   "id": "d7f9cd5a-4e35-4b1b-9cb1-092fc1d879bc",
   "metadata": {},
   "outputs": [],
   "source": [
    "bayes_cvec_rf = pickle.load(open('./models/bayes_cvec_rf.pkl', 'rb'))"
   ]
  },
  {
   "cell_type": "markdown",
   "id": "f56ab9e1-96f4-42e0-acab-4e08db7b74f6",
   "metadata": {},
   "source": [
    "#### TFIDF Logistic Regression"
   ]
  },
  {
   "cell_type": "code",
   "execution_count": 82,
   "id": "6dea23ac-79f4-4cda-8c7b-2f0ac88d57fd",
   "metadata": {},
   "outputs": [
    {
     "data": {
      "text/plain": [
       "GridSearchCV(cv=5,\n",
       "             estimator=Pipeline(steps=[('tfid', TfidfVectorizer()),\n",
       "                                       ('log',\n",
       "                                        LogisticRegression(max_iter=50000,\n",
       "                                                           random_state=42,\n",
       "                                                           solver='liblinear'))]),\n",
       "             param_grid={'log__penalty': ['l1', 'l2'],\n",
       "                         'tfid__max_df': [0.75, 0.9],\n",
       "                         'tfid__max_features': [1000, 2000, 3000, 4000],\n",
       "                         'tfid__min_df': [2, 3],\n",
       "                         'tfid__ngram_range': [(1, 1), (1, 2)],\n",
       "                         'tfid__stop_words': ['english', None]})"
      ]
     },
     "execution_count": 82,
     "metadata": {},
     "output_type": "execute_result"
    }
   ],
   "source": [
    "# LogisticRegression\n",
    "t_pipe_logreg = Pipeline([\n",
    "    ('tfid', TfidfVectorizer()),\n",
    "    ('log', LogisticRegression(solver='liblinear',max_iter=50_000,random_state=42))\n",
    "])\n",
    "\n",
    "t_log_params = {\n",
    "    'tfid__max_features': [1000, 2000, 3000, 4000],\n",
    "    'tfid__min_df': [2, 3],\n",
    "    'tfid__max_df': [0.75,0.9],\n",
    "    'tfid__ngram_range':[(1, 1), (1, 2)],\n",
    "    'tfid__stop_words':['english',None],\n",
    "    'log__penalty':['l1','l2']\n",
    "}\n",
    "\n",
    "gs_tfidf_log = GridSearchCV(t_pipe_logreg, \n",
    "                      t_log_params,\n",
    "                      cv = 5,)\n",
    "\n",
    "gs_tfidf_log.fit(X_train,y_train)"
   ]
  },
  {
   "cell_type": "code",
   "execution_count": 83,
   "id": "c9a231fe-d3e9-4ff6-97bb-668b26550261",
   "metadata": {},
   "outputs": [],
   "source": [
    "# with open('./models/gs_tfidf_log.pkl', 'wb') as pickle_out:\n",
    "#     pickle_out = pickle.dump(gs_tfidf_log.best_estimator_, pickle_out)"
   ]
  },
  {
   "cell_type": "code",
   "execution_count": 14,
   "id": "800bdaf8-afe5-4157-ae9f-d39b751958c6",
   "metadata": {},
   "outputs": [],
   "source": [
    "gs_tfidf_log = pickle.load(open('./models/gs_tfidf_log.pkl', 'rb'))"
   ]
  },
  {
   "cell_type": "markdown",
   "id": "b7a00b39-e2a7-4521-a430-78743d90c747",
   "metadata": {},
   "source": [
    "#### Tfidf RandomForest"
   ]
  },
  {
   "cell_type": "code",
   "execution_count": null,
   "id": "cbfd74a6-b01f-4ee8-9840-d749bc422b4d",
   "metadata": {
    "scrolled": true,
    "tags": []
   },
   "outputs": [],
   "source": [
    "# RandomForestClassifier\n",
    "t_pipe_rf = Pipeline([\n",
    "    ('tfid', TfidfVectorizer(ngram_range=(1,2))),\n",
    "    ('rf', RandomForestClassifier())\n",
    "])\n",
    "\n",
    "t_rf_params = {\n",
    "    'tfid__max_features': Integer(1000, 5000),\n",
    "    'tfid__min_df': Integer(2, 3),\n",
    "    'tfid__max_df': Real(0.75,0.9),\n",
    "    #'tfid__ngram_range':[(1, 1), (1, 2)],\n",
    "    'tfid__stop_words':Categorical([None,'english']),\n",
    "    'rf__n_estimators': Integer(200, 500),\n",
    "    'rf__max_depth': Integer(1, 5)\n",
    "}\n",
    "\n",
    "bayes_tfidf_rf = BayesSearchCV(estimator = t_pipe_rf,\n",
    "                                   search_spaces = t_rf_params,\n",
    "                     scoring = 'f1',\n",
    "                     n_iter = 50,\n",
    "                     #n_jobs = ,\n",
    "                     cv = 5,\n",
    "                     verbose = 1,\n",
    "                     #refit = True,\n",
    "                     #optimizer_kwargs = {'base_estimator': 'RF'},\n",
    "                     random_state=42)\n",
    "\n",
    "bayes_tfidf_rf.fit(X_train,y_train)"
   ]
  },
  {
   "cell_type": "code",
   "execution_count": 73,
   "id": "58cfc761-688c-45bf-8670-25f2934fb2fb",
   "metadata": {},
   "outputs": [
    {
     "data": {
      "text/plain": [
       "Pipeline(steps=[('tfid',\n",
       "                 TfidfVectorizer(max_df=0.75, max_features=1000, min_df=2,\n",
       "                                 ngram_range=(1, 2))),\n",
       "                ('rf', RandomForestClassifier(max_depth=5, n_estimators=500))])"
      ]
     },
     "execution_count": 73,
     "metadata": {},
     "output_type": "execute_result"
    }
   ],
   "source": [
    "bayes_tfidf_rf.best_estimator_"
   ]
  },
  {
   "cell_type": "code",
   "execution_count": 74,
   "id": "88e3b3b8-3f36-44cb-9b7e-3d8728742888",
   "metadata": {},
   "outputs": [],
   "source": [
    "# with open('./models/bayes_tfidf_rf.pkl', 'wb') as pickle_out:\n",
    "#     pickle_out = pickle.dump(bayes_tfidf_rf.best_estimator_, pickle_out)"
   ]
  },
  {
   "cell_type": "code",
   "execution_count": 15,
   "id": "fc48bdcb-5053-4b69-ba41-c17c2aebaf01",
   "metadata": {},
   "outputs": [],
   "source": [
    "bayes_tfidf_rf = pickle.load(open('./models/bayes_tfidf_rf.pkl', 'rb'))"
   ]
  },
  {
   "cell_type": "markdown",
   "id": "192e0802-419b-44cc-bf52-c5e00648750f",
   "metadata": {},
   "source": [
    "## Model Scores"
   ]
  },
  {
   "cell_type": "code",
   "execution_count": 23,
   "id": "a6af2718-aebf-4814-b2cf-f563821eba60",
   "metadata": {},
   "outputs": [
    {
     "data": {
      "text/plain": [
       "Pipeline(steps=[('tfid',\n",
       "                 TfidfVectorizer(max_df=0.75, max_features=1000, min_df=2,\n",
       "                                 ngram_range=(1, 2))),\n",
       "                ('rf', RandomForestClassifier(max_depth=5, n_estimators=500))])"
      ]
     },
     "execution_count": 23,
     "metadata": {},
     "output_type": "execute_result"
    }
   ],
   "source": [
    "gs_cvec_log.fit(X_train,y_train)\n",
    "gs_cvec_nb.fit(X_train,y_train)\n",
    "gs_tfidf_log.fit(X_train,y_train)\n",
    "bayes_cvec_rf.fit(X_train,y_train)\n",
    "bayes_tfidf_rf.fit(X_train,y_train)"
   ]
  },
  {
   "cell_type": "markdown",
   "id": "07073801-4f2b-4c12-99dd-b9521caa5278",
   "metadata": {},
   "source": [
    "#### Cvec Logistic Regression"
   ]
  },
  {
   "cell_type": "code",
   "execution_count": 49,
   "id": "8810707b-e17f-4fa6-b8d2-3eed46953060",
   "metadata": {},
   "outputs": [
    {
     "name": "stdout",
     "output_type": "stream",
     "text": [
      "Accuracy:(0.8200096098981952, 0.797638650457205), Recall:0.8189280202048548, Precision:0.7851089588377724, F1:0.801661973765538\n"
     ]
    }
   ],
   "source": [
    "cvec_log_preds = gs_cvec_log.predict(X_test)\n",
    "print(f'Accuracy:{gs_cvec_log.score(X_train,y_train), gs_cvec_log.score(X_test,y_test)}, Recall:{recall_score(y_test,cvec_log_preds)}, Precision:{precision_score(y_test,cvec_log_preds)}, F1:{f1_score(y_test,cvec_log_preds)}')\n"
   ]
  },
  {
   "cell_type": "code",
   "execution_count": 86,
   "id": "25945bfe-3703-4577-9b4b-bea67f21f75e",
   "metadata": {},
   "outputs": [
    {
     "data": {
      "image/png": "[encoded data removed]",
      "text/plain": [
       "<Figure size 432x288 with 2 Axes>"
      ]
     },
     "metadata": {
      "needs_background": "light"
     },
     "output_type": "display_data"
    }
   ],
   "source": [
    "tn, fp, fn, tp = confusion_matrix(y_test, cvec_log_preds).ravel()\n",
    "plot_confusion_matrix(gs_cvec_log,X_test,y_test, \n",
    "                      display_labels=['NoStupidQuestions', 'explainlikeimfive'],\n",
    "                     cmap='mako');\n",
    "plt.title('CVec LogReg',size=20);\n",
    "plt.tight_layout();\n",
    "#plt.savefig('./imgs/matrix_cvec_log.png');"
   ]
  },
  {
   "cell_type": "markdown",
   "id": "6f3e47b2-863c-4458-9f28-bb6b7d62d5cb",
   "metadata": {},
   "source": [
    "#### Tfidf Logistic Regression"
   ]
  },
  {
   "cell_type": "code",
   "execution_count": 82,
   "id": "6ca30ad5-b0fd-49cc-abf1-04334bc0cb61",
   "metadata": {},
   "outputs": [
    {
     "name": "stdout",
     "output_type": "stream",
     "text": [
      "Accuracy: (0.820039640830055, 0.8001961952142381), Recall: 0.7985828539357374, Precision: 0.8007738304607809, F1: 0.7996768414766939\n"
     ]
    }
   ],
   "source": [
    "tfidf_log_preds = gs_tfidf_log.predict(X_test)\n",
    "\n",
    "print(f'Accuracy: {gs_tfidf_log.score(X_train,y_train), gs_tfidf_log.score(X_test,y_test)}, Recall: {recall_score(y_test,tfidf_log_preds)}, Precision: {precision_score(y_test,tfidf_log_preds)}, F1: {f1_score(y_test,tfidf_log_preds)}')\n"
   ]
  },
  {
   "cell_type": "code",
   "execution_count": 87,
   "id": "8c53ed41-3833-4c04-8d49-653592136dbb",
   "metadata": {},
   "outputs": [
    {
     "data": {
      "image/png": "[encoded data removed]",
      "text/plain": [
       "<Figure size 432x288 with 2 Axes>"
      ]
     },
     "metadata": {
      "needs_background": "light"
     },
     "output_type": "display_data"
    }
   ],
   "source": [
    "tn, fp, fn, tp = confusion_matrix(y_test, tfidf_log_preds).ravel()\n",
    "plot_confusion_matrix(gs_tfidf_log,X_test,y_test, \n",
    "                      display_labels=['NoStupidQuestions', 'explainlikeimfive'],\n",
    "                     cmap='mako');\n",
    "plt.title('Tfidf LogReg',size=20);\n",
    "plt.tight_layout()\n",
    "#plt.savefig('./imgs/matrix_tfidf_log.png');"
   ]
  },
  {
   "cell_type": "markdown",
   "id": "707c274c-ec99-4875-a8d3-d17ddbaf744d",
   "metadata": {},
   "source": [
    "#### Cvec Niave Bayes"
   ]
  },
  {
   "cell_type": "code",
   "execution_count": 88,
   "id": "53795c7b-6ebc-4b5b-9c3a-ddd387992ca8",
   "metadata": {},
   "outputs": [
    {
     "name": "stdout",
     "output_type": "stream",
     "text": [
      "Accuracy: 0.7520646265653623, 0.7402515502925411, Recall: 0.7973902062578925, Precision: 0.7152026176692675, F1: 0.7540635573542094\n"
     ]
    }
   ],
   "source": [
    "cvec_nb_preds = gs_cvec_nb.predict(X_test)\n",
    "\n",
    "print(f'Accuracy: {gs_cvec_nb.score(X_train,y_train)}, {gs_cvec_nb.score(X_test,y_test)}, Recall: {recall_score(y_test,cvec_nb_preds)}, Precision: {precision_score(y_test,cvec_nb_preds)}, F1: {f1_score(y_test,cvec_nb_preds)}')"
   ]
  },
  {
   "cell_type": "code",
   "execution_count": 89,
   "id": "78e5b0c8-8967-42e5-acdb-89809d5000ab",
   "metadata": {},
   "outputs": [
    {
     "data": {
      "image/png": "[encoded data removed]",
      "text/plain": [
       "<Figure size 432x288 with 2 Axes>"
      ]
     },
     "metadata": {
      "needs_background": "light"
     },
     "output_type": "display_data"
    }
   ],
   "source": [
    "tn, fp, fn, tp = confusion_matrix(y_test, cvec_nb_preds).ravel()\n",
    "plot_confusion_matrix(gs_cvec_nb,X_test,y_test, \n",
    "                      display_labels=['NoStupidQuestions', 'explainlikeimfive'],\n",
    "                     cmap='mako');\n",
    "plt.title('CVec Naive Bayes',size=20);\n",
    "plt.tight_layout()\n",
    "#plt.savefig('./imgs/matrix_cvec_nb.png');"
   ]
  },
  {
   "cell_type": "markdown",
   "id": "3efad6f9-23ee-438b-a331-d1a4085cb18f",
   "metadata": {},
   "source": [
    "#### Cvec RandomForest"
   ]
  },
  {
   "cell_type": "code",
   "execution_count": 90,
   "id": "157911a0-6838-4cdb-9cc4-7ba3c3ef78ca",
   "metadata": {},
   "outputs": [
    {
     "name": "stdout",
     "output_type": "stream",
     "text": [
      "Accuracy: (0.7082044505841016, 0.7067932592929965), Recall: 0.7601375052616809, Precision: 0.686411149825784, F1: 0.7213955191584274\n"
     ]
    }
   ],
   "source": [
    "cvec_rf_preds = bayes_cvec_rf.predict(X_test)\n",
    "\n",
    "print(f'Accuracy: {bayes_cvec_rf.score(X_train,y_train), bayes_cvec_rf.score(X_test,y_test)}, Recall: {recall_score(y_test,cvec_rf_preds)}, Precision: {precision_score(y_test,cvec_rf_preds)}, F1: {f1_score(y_test,cvec_rf_preds)}')"
   ]
  },
  {
   "cell_type": "code",
   "execution_count": 91,
   "id": "e5013a59-d9ef-4c37-97d5-cf08c55e39ce",
   "metadata": {},
   "outputs": [
    {
     "data": {
      "image/png": "[encoded data removed]",
      "text/plain": [
       "<Figure size 432x288 with 2 Axes>"
      ]
     },
     "metadata": {
      "needs_background": "light"
     },
     "output_type": "display_data"
    }
   ],
   "source": [
    "tn, fp, fn, tp = confusion_matrix(y_test, cvec_rf_preds).ravel()\n",
    "plot_confusion_matrix(bayes_cvec_rf,X_test,y_test, \n",
    "                      display_labels=['NoStupidQuestions', 'explainlikeimfive'],\n",
    "                     cmap='mako');\n",
    "plt.title('CVec RandomForest',size=20);\n",
    "plt.tight_layout()\n",
    "#plt.savefig('./imgs/matrix_cvec_rf.png');"
   ]
  },
  {
   "cell_type": "markdown",
   "id": "7e39eb4d-a621-4f9a-a0aa-d09517c16260",
   "metadata": {},
   "source": [
    "#### Tfidf RandomForest"
   ]
  },
  {
   "cell_type": "code",
   "execution_count": 92,
   "id": "e5b76240-d24a-44e8-b255-ba526c68ab7d",
   "metadata": {},
   "outputs": [
    {
     "name": "stdout",
     "output_type": "stream",
     "text": [
      "Accuracy: (0.7123036727829665, 0.7113477910520969), Recall: 0.7590851690753473, Precision: 0.69248, F1: 0.7242544931222598\n"
     ]
    }
   ],
   "source": [
    "tfidf_rf_preds = bayes_tfidf_rf.predict(X_test)\n",
    "\n",
    "print(f'Accuracy: {bayes_tfidf_rf.score(X_train,y_train), bayes_tfidf_rf.score(X_test,y_test)}, Recall: {recall_score(y_test,tfidf_rf_preds)}, Precision: {precision_score(y_test,tfidf_rf_preds)}, F1: {f1_score(y_test,tfidf_rf_preds)}')"
   ]
  },
  {
   "cell_type": "code",
   "execution_count": 93,
   "id": "4eb61f39-55f8-4ed5-a01c-7b18292328e1",
   "metadata": {},
   "outputs": [
    {
     "data": {
      "image/png": "[encoded data removed]",
      "text/plain": [
       "<Figure size 432x288 with 2 Axes>"
      ]
     },
     "metadata": {
      "needs_background": "light"
     },
     "output_type": "display_data"
    }
   ],
   "source": [
    "tn, fp, fn, tp = confusion_matrix(y_test, tfidf_rf_preds).ravel()\n",
    "plot_confusion_matrix(bayes_tfidf_rf,X_test,y_test, \n",
    "                      display_labels=['NoStupidQuestions', 'explainlikeimfive'],\n",
    "                     cmap='mako');\n",
    "plt.title('Tfidf RandomForest',size=20);\n",
    "plt.tight_layout()\n",
    "#plt.savefig('./imgs/matrix_tfidf_rf.png');"
   ]
  },
  {
   "cell_type": "markdown",
   "id": "60b446e9-f381-415c-86d3-a20e3378d4bd",
   "metadata": {},
   "source": [
    "| Model                        | Training Score              | Testing Score               | Recall             | Precision          | F1                 |\n",
    "|------------------------------|-----------------------------|-----------------------------|--------------------|--------------------|--------------------|\n",
    "|       CVec/RandomForest      |      0.7082044505841016     |      0.7067932592929965     | 0.7601375052616809 | 0.686411149825784  | 0.7213955191584274 |\n",
    "| TfidfVect/RandomForest       | 0.7123036727829665          | 0.7113477910520969          | 0.7590851690753473 | 0.69248            | 0.7242544931222598 |\n",
    "| CVec/Multinomial Naive Bayes | 0.7520646265653623          | 0.7402515502925411          | 0.7973902062578925 | 0.7152026176692675 | 0.7540635573542094 |\n",
    "| CVec/Logistic Regression     | 0.8200096098981952          | 0.797638650457205           | 0.8189280202048548 | 0.7851089588377724 | 0.801661973765538  |\n",
    "| Tfidf/Logistic Regression    | 0.820039640830055           | 0.8001961952142381          | 0.7985828539357374 | 0.8007738304607809 | 0.7996768414766939 |\n",
    "| BASE                         | NoStupidQuestions: 0.502055 | explainlikeimfive: 0.497945 |                    |                    |                    |"
   ]
  },
  {
   "cell_type": "markdown",
   "id": "bc9a7c6b-7fb2-4d07-a683-7c7130bf0211",
   "metadata": {},
   "source": [
    "Looking at the above models it appears that Tfidif Logistic Regression did the best. We care less about False Positives and False Negatives so Recall and Precision aren't as helpful as Accuracy and F1 score which are all about even. I will opt for the highes testing score."
   ]
  },
  {
   "cell_type": "code",
   "execution_count": 109,
   "id": "82eb0c5f-bfef-4e48-9b18-963a6736c296",
   "metadata": {},
   "outputs": [
    {
     "data": {
      "text/plain": [
       "<Figure size 864x864 with 0 Axes>"
      ]
     },
     "metadata": {},
     "output_type": "display_data"
    },
    {
     "data": {
      "image/png": "[encoded data removed]",
      "text/plain": [
       "<Figure size 432x288 with 1 Axes>"
      ]
     },
     "metadata": {
      "needs_background": "light"
     },
     "output_type": "display_data"
    }
   ],
   "source": [
    "# ROC curve\n",
    "plot_roc_curve(gs_tfidf_log, X_test, y_test);\n",
    "plt.plot([0, 1], [0, 1], label=\"baseline\", linestyle=\"--\");"
   ]
  },
  {
   "cell_type": "markdown",
   "id": "c9a33502-12f3-43cd-95c1-8d62302b1dba",
   "metadata": {},
   "source": [
    "An easy visual representation to see how effective our model is. While not the best model, definitley has room for error, it is about 30% more effective at guessing than the baseline."
   ]
  }
 ],
 "metadata": {
  "kernelspec": {
   "display_name": "Python [conda env:dsi] *",
   "language": "python",
   "name": "conda-env-dsi-py"
  },
  "language_info": {
   "codemirror_mode": {
    "name": "ipython",
    "version": 3
   },
   "file_extension": ".py",
   "mimetype": "text/x-python",
   "name": "python",
   "nbconvert_exporter": "python",
   "pygments_lexer": "ipython3",
   "version": "3.8.8"
  }
 },
 "nbformat": 4,
 "nbformat_minor": 5
}
